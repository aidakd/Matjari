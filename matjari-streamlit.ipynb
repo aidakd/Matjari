{
 "cells": [
  {
   "cell_type": "code",
   "execution_count": 12,
   "id": "3d46e6a4",
   "metadata": {},
   "outputs": [],
   "source": [
    "import tensorflow as tensorflow"
   ]
  },
  {
   "cell_type": "code",
   "execution_count": 24,
   "id": "ddd7675e",
   "metadata": {},
   "outputs": [],
   "source": [
    "from tensorflow.keras.applications.resnet50 import ResNet50\n",
    "from tensorflow.keras.applications.resnet50 import preprocess_input, decode_predictions\n",
    "import numpy as np\n",
    "from PIL import Image\n",
    "import streamlit as st"
   ]
  },
  {
   "cell_type": "code",
   "execution_count": 25,
   "id": "cf70b6f7",
   "metadata": {},
   "outputs": [
    {
     "name": "stderr",
     "output_type": "stream",
     "text": [
      "2022-07-07 18:50:57.591560: I tensorflow/core/platform/cpu_feature_guard.cc:193] This TensorFlow binary is optimized with oneAPI Deep Neural Network Library (oneDNN) to use the following CPU instructions in performance-critical operations:  AVX2 FMA\n",
      "To enable them in other operations, rebuild TensorFlow with the appropriate compiler flags.\n"
     ]
    },
    {
     "name": "stdout",
     "output_type": "stream",
     "text": [
      "Downloading data from https://storage.googleapis.com/tensorflow/keras-applications/resnet/resnet50_weights_tf_dim_ordering_tf_kernels.h5\n",
      "102967424/102967424 [==============================] - 53s 1us/step\n"
     ]
    },
    {
     "name": "stderr",
     "output_type": "stream",
     "text": [
      "2022-07-07 18:51:57.472 \n",
      "  \u001b[33m\u001b[1mWarning:\u001b[0m to view this Streamlit app on a browser, run it with the following\n",
      "  command:\n",
      "\n",
      "    streamlit run /Users/kandil/.pyenv/versions/3.8.12/envs/matjari/lib/python3.8/site-packages/ipykernel_launcher.py [ARGUMENTS]\n"
     ]
    }
   ],
   "source": [
    "#load pre-trained model\n",
    "model = ResNet50(weights='imagenet')\n",
    "\n",
    "#create file uploader\n",
    "img_data = st.file_uploader(\"Choose a file\")\n",
    "if img_data is not None:\n",
    "    uploaded_img = Img.open(img_data)\n",
    "\n",
    "    #load image to file to predict and make prediction\n",
    "    img_path = f'/Users/kandil/code/aidakd/matjari/matjari/data/pictures-from-scrip/{img_data.name}'\n",
    "    img = image.load_img(img_path, target_size=(224, 224))\n",
    "    x = image_img_to_array(img)\n",
    "    x = np.expand_dims(x, axis=0)\n",
    "    x = preprocess_input(x)\n",
    "    prediction = model.predict(x)\n",
    "    make_prediction = decode_predictions(prediction)\n",
    "\n",
    "    #display predicition\n",
    "    st.title('Is this image a ')\n",
    "    for i in make_prediction:\n",
    "        for j in i:\n",
    "            st.write(j[1])\n"
   ]
  },
  {
   "cell_type": "code",
   "execution_count": 9,
   "id": "b3757c70",
   "metadata": {},
   "outputs": [
    {
     "ename": "SyntaxError",
     "evalue": "invalid syntax (3737097518.py, line 1)",
     "output_type": "error",
     "traceback": [
      "\u001b[0;36m  Input \u001b[0;32mIn [9]\u001b[0;36m\u001b[0m\n\u001b[0;31m    streamlit run app.py\u001b[0m\n\u001b[0m              ^\u001b[0m\n\u001b[0;31mSyntaxError\u001b[0m\u001b[0;31m:\u001b[0m invalid syntax\n"
     ]
    }
   ],
   "source": [
    "streamlit run app.py"
   ]
  },
  {
   "cell_type": "code",
   "execution_count": null,
   "id": "a19eb8d7",
   "metadata": {},
   "outputs": [],
   "source": []
  }
 ],
 "metadata": {
  "kernelspec": {
   "display_name": "Python 3 (ipykernel)",
   "language": "python",
   "name": "python3"
  },
  "language_info": {
   "codemirror_mode": {
    "name": "ipython",
    "version": 3
   },
   "file_extension": ".py",
   "mimetype": "text/x-python",
   "name": "python",
   "nbconvert_exporter": "python",
   "pygments_lexer": "ipython3",
   "version": "3.8.12"
  },
  "toc": {
   "base_numbering": 1,
   "nav_menu": {},
   "number_sections": true,
   "sideBar": true,
   "skip_h1_title": false,
   "title_cell": "Table of Contents",
   "title_sidebar": "Contents",
   "toc_cell": false,
   "toc_position": {},
   "toc_section_display": true,
   "toc_window_display": false
  }
 },
 "nbformat": 4,
 "nbformat_minor": 5
}
