{
 "cells": [
  {
   "cell_type": "code",
   "execution_count": 1,
   "id": "0c0d6145",
   "metadata": {},
   "outputs": [],
   "source": [
    "import pandas as pd\n",
    "import matplotlib.pyplot as plt\n",
    "import numpy as np"
   ]
  },
  {
   "cell_type": "code",
   "execution_count": 2,
   "id": "7842a7e7",
   "metadata": {},
   "outputs": [],
   "source": [
    "df = pd.read_pickle('raw_data/final_data_set.pkl')"
   ]
  },
  {
   "cell_type": "code",
   "execution_count": 3,
   "id": "64cea21c",
   "metadata": {},
   "outputs": [
    {
     "data": {
      "text/html": [
       "<div>\n",
       "<style scoped>\n",
       "    .dataframe tbody tr th:only-of-type {\n",
       "        vertical-align: middle;\n",
       "    }\n",
       "\n",
       "    .dataframe tbody tr th {\n",
       "        vertical-align: top;\n",
       "    }\n",
       "\n",
       "    .dataframe thead th {\n",
       "        text-align: right;\n",
       "    }\n",
       "</style>\n",
       "<table border=\"1\" class=\"dataframe\">\n",
       "  <thead>\n",
       "    <tr style=\"text-align: right;\">\n",
       "      <th></th>\n",
       "      <th>Product Label</th>\n",
       "      <th>X</th>\n",
       "    </tr>\n",
       "  </thead>\n",
       "  <tbody>\n",
       "    <tr>\n",
       "      <th>0</th>\n",
       "      <td>Bag</td>\n",
       "      <td>[[[255, 255, 255], [255, 255, 255], [255, 255,...</td>\n",
       "    </tr>\n",
       "    <tr>\n",
       "      <th>1</th>\n",
       "      <td>Bag</td>\n",
       "      <td>[[[255, 255, 255], [255, 255, 255], [255, 255,...</td>\n",
       "    </tr>\n",
       "    <tr>\n",
       "      <th>2</th>\n",
       "      <td>Bag</td>\n",
       "      <td>[[[255, 255, 255], [255, 255, 255], [255, 255,...</td>\n",
       "    </tr>\n",
       "    <tr>\n",
       "      <th>3</th>\n",
       "      <td>Bag</td>\n",
       "      <td>[[[255, 255, 255], [255, 255, 255], [255, 255,...</td>\n",
       "    </tr>\n",
       "    <tr>\n",
       "      <th>4</th>\n",
       "      <td>Bag</td>\n",
       "      <td>[[[255, 255, 255], [255, 255, 255], [255, 255,...</td>\n",
       "    </tr>\n",
       "  </tbody>\n",
       "</table>\n",
       "</div>"
      ],
      "text/plain": [
       "  Product Label                                                  X\n",
       "0           Bag  [[[255, 255, 255], [255, 255, 255], [255, 255,...\n",
       "1           Bag  [[[255, 255, 255], [255, 255, 255], [255, 255,...\n",
       "2           Bag  [[[255, 255, 255], [255, 255, 255], [255, 255,...\n",
       "3           Bag  [[[255, 255, 255], [255, 255, 255], [255, 255,...\n",
       "4           Bag  [[[255, 255, 255], [255, 255, 255], [255, 255,..."
      ]
     },
     "execution_count": 3,
     "metadata": {},
     "output_type": "execute_result"
    }
   ],
   "source": [
    "df.head()"
   ]
  },
  {
   "cell_type": "code",
   "execution_count": 4,
   "id": "6eafca77",
   "metadata": {},
   "outputs": [],
   "source": [
    "df_2 = df.reset_index()"
   ]
  },
  {
   "cell_type": "code",
   "execution_count": 5,
   "id": "793d32a0",
   "metadata": {},
   "outputs": [
    {
     "data": {
      "text/plain": [
       "(256, 256, 3)"
      ]
     },
     "execution_count": 5,
     "metadata": {},
     "output_type": "execute_result"
    }
   ],
   "source": [
    "df_2['X'][0].shape"
   ]
  },
  {
   "cell_type": "code",
   "execution_count": 7,
   "id": "f54eecb4",
   "metadata": {},
   "outputs": [],
   "source": [
    "list1 = []\n",
    "list_y=[]\n",
    "missing_idX=[]\n",
    "for i, v in enumerate(df_2['X'][0:14999]):\n",
    "    #if len(v.shape)==2:\n",
    "        #missing_idX.append(i)\n",
    "    if v.shape==(256,256,3):\n",
    "        list1.append(v)\n",
    "    else:\n",
    "        missing_idX.append(i)\n",
    "    if i not in missing_idX:\n",
    "        list_y.append(df_2['Product Label'][i])"
   ]
  },
  {
   "cell_type": "code",
   "execution_count": 8,
   "id": "f6d19a18",
   "metadata": {},
   "outputs": [
    {
     "data": {
      "text/plain": [
       "9993"
      ]
     },
     "execution_count": 8,
     "metadata": {},
     "output_type": "execute_result"
    }
   ],
   "source": [
    "len(list_y)"
   ]
  },
  {
   "cell_type": "code",
   "execution_count": 9,
   "id": "3cc5d278",
   "metadata": {},
   "outputs": [
    {
     "data": {
      "text/plain": [
       "5006"
      ]
     },
     "execution_count": 9,
     "metadata": {},
     "output_type": "execute_result"
    }
   ],
   "source": [
    "len(missing_idX)"
   ]
  },
  {
   "cell_type": "code",
   "execution_count": 10,
   "id": "8acd24c1",
   "metadata": {},
   "outputs": [
    {
     "data": {
      "text/plain": [
       "9993"
      ]
     },
     "execution_count": 10,
     "metadata": {},
     "output_type": "execute_result"
    }
   ],
   "source": [
    "len(list1)"
   ]
  },
  {
   "cell_type": "code",
   "execution_count": 11,
   "id": "5eff1498",
   "metadata": {},
   "outputs": [
    {
     "data": {
      "text/plain": [
       "(9993, 256, 256, 3)"
      ]
     },
     "execution_count": 11,
     "metadata": {},
     "output_type": "execute_result"
    }
   ],
   "source": [
    "np.array(list1).shape"
   ]
  },
  {
   "cell_type": "code",
   "execution_count": 12,
   "id": "e26d68bc",
   "metadata": {},
   "outputs": [],
   "source": [
    "X = np.array(list1)"
   ]
  },
  {
   "cell_type": "code",
   "execution_count": 13,
   "id": "cb83dd11",
   "metadata": {},
   "outputs": [],
   "source": [
    "y = list_y"
   ]
  },
  {
   "cell_type": "code",
   "execution_count": 36,
   "id": "cd6b71d0",
   "metadata": {},
   "outputs": [
    {
     "data": {
      "text/plain": [
       "array(['Bag', 'Bed Linen', 'Blanket', 'Box', 'Bracelet', 'Candle',\n",
       "       'Coaster', 'Cushion Cover', 'Dress', 'Earring', 'Face Care',\n",
       "       'Food', 'Gift Box'], dtype='<U13')"
      ]
     },
     "execution_count": 36,
     "metadata": {},
     "output_type": "execute_result"
    }
   ],
   "source": [
    "np.unique(y)"
   ]
  },
  {
   "cell_type": "code",
   "execution_count": 14,
   "id": "7297e817",
   "metadata": {},
   "outputs": [],
   "source": [
    "import pandas as pd\n",
    "#from matplotlib import pyplot as plt\n",
    "import os, json\n",
    "import pandas as pd\n",
    "from PIL import Image\n",
    "import numpy as np\n",
    "from numpy import asarray\n",
    "from sklearn.preprocessing import LabelEncoder\n",
    "from tensorflow.keras.utils import to_categorical\n",
    "from sklearn.model_selection import train_test_split\n",
    "from google.cloud import storage"
   ]
  },
  {
   "cell_type": "code",
   "execution_count": 15,
   "id": "6d2686e2",
   "metadata": {},
   "outputs": [],
   "source": [
    "encoder = LabelEncoder()\n"
   ]
  },
  {
   "cell_type": "code",
   "execution_count": 16,
   "id": "c56ea068",
   "metadata": {},
   "outputs": [],
   "source": [
    "y_encod = encoder.fit_transform(y)\n"
   ]
  },
  {
   "cell_type": "code",
   "execution_count": 32,
   "id": "ce0d1867",
   "metadata": {},
   "outputs": [
    {
     "data": {
      "text/plain": [
       "array([ 0,  0,  0, ..., 12, 12, 12])"
      ]
     },
     "execution_count": 32,
     "metadata": {},
     "output_type": "execute_result"
    }
   ],
   "source": [
    "y_encod"
   ]
  },
  {
   "cell_type": "code",
   "execution_count": 17,
   "id": "91e69733",
   "metadata": {},
   "outputs": [
    {
     "data": {
      "text/plain": [
       "(9993,)"
      ]
     },
     "execution_count": 17,
     "metadata": {},
     "output_type": "execute_result"
    }
   ],
   "source": [
    "y_encod.shape\n"
   ]
  },
  {
   "cell_type": "code",
   "execution_count": 33,
   "id": "362ede1c",
   "metadata": {},
   "outputs": [
    {
     "data": {
      "text/plain": [
       "array([ 0,  1,  2,  3,  4,  5,  6,  7,  8,  9, 10, 11, 12])"
      ]
     },
     "execution_count": 33,
     "metadata": {},
     "output_type": "execute_result"
    }
   ],
   "source": [
    "np.unique(y_encod)"
   ]
  },
  {
   "cell_type": "code",
   "execution_count": 19,
   "id": "60cfd582",
   "metadata": {},
   "outputs": [],
   "source": [
    "y_cat = to_categorical(y_encod, num_classes=len(np.unique(y_encod)))\n"
   ]
  },
  {
   "cell_type": "code",
   "execution_count": 20,
   "id": "615b99a0",
   "metadata": {},
   "outputs": [
    {
     "data": {
      "text/plain": [
       "(9993, 13)"
      ]
     },
     "execution_count": 20,
     "metadata": {},
     "output_type": "execute_result"
    }
   ],
   "source": [
    "y_cat.shape"
   ]
  },
  {
   "cell_type": "code",
   "execution_count": 21,
   "id": "af0382ce",
   "metadata": {},
   "outputs": [],
   "source": [
    "X_train, X_test, y_train, y_test = train_test_split(X, y_cat, test_size=0.3)"
   ]
  },
  {
   "cell_type": "code",
   "execution_count": 22,
   "id": "b9a3e210",
   "metadata": {},
   "outputs": [
    {
     "name": "stdout",
     "output_type": "stream",
     "text": [
      "(6995, 256, 256, 3) (2998, 256, 256, 3) (6995, 13) (2998, 13)\n"
     ]
    }
   ],
   "source": [
    "print(X_train.shape, X_test.shape, y_train.shape, y_test.shape)"
   ]
  },
  {
   "cell_type": "code",
   "execution_count": 23,
   "id": "c4f78136",
   "metadata": {},
   "outputs": [],
   "source": [
    "import tensorflow as tf\n",
    "from tensorflow.keras import models\n",
    "from tensorflow.keras import Sequential, layers\n",
    "from tensorflow.keras import optimizers\n",
    "from tensorflow.keras import callbacks\n",
    "from tensorflow.keras.callbacks import EarlyStopping\n",
    "from tensorflow.keras.layers.experimental.preprocessing import Rescaling\n",
    "import pandas as pd\n",
    "import numpy as np\n",
    "import joblib\n",
    "from google.cloud import storage"
   ]
  },
  {
   "cell_type": "code",
   "execution_count": 24,
   "id": "741970c6",
   "metadata": {},
   "outputs": [],
   "source": [
    "model = Sequential()\n",
    "model.add(Rescaling(1./255, input_shape=(256, 256, 3)))\n",
    "\n",
    "model.add(layers.Conv2D(16, (10,10), activation=\"relu\"))\n",
    "model.add(layers.MaxPool2D(pool_size=(3,3)))\n",
    "\n",
    "model.add(layers.Conv2D(32, (8,8), activation=\"relu\"))\n",
    "model.add(layers.MaxPool2D(pool_size=(3,3)))\n",
    "\n",
    "model.add(layers.Conv2D(32, (6,6), activation=\"relu\"))\n",
    "model.add(layers.MaxPool2D(pool_size=(3,3)))\n",
    "\n",
    "model.add(layers.Flatten())\n",
    "model.add(layers.Dense(1000, activation='relu'))\n",
    "model.add(layers.Dense(13, activation='softmax'))"
   ]
  },
  {
   "cell_type": "code",
   "execution_count": 25,
   "id": "9b8904a6",
   "metadata": {},
   "outputs": [],
   "source": [
    "learning_rate=1e-4\n",
    "opt = optimizers.Adam(learning_rate=learning_rate)\n",
    "model.compile(loss='categorical_crossentropy',\n",
    "                optimizer=opt,\n",
    "                metrics=['accuracy'])"
   ]
  },
  {
   "cell_type": "code",
   "execution_count": 26,
   "id": "5cff3d77",
   "metadata": {},
   "outputs": [
    {
     "name": "stdout",
     "output_type": "stream",
     "text": [
      "Epoch 1/2\n",
      "306/306 [==============================] - 714s 2s/step - loss: 1.7568 - accuracy: 0.4569 - val_loss: 1.5206 - val_accuracy: 0.5298\n",
      "Epoch 2/2\n",
      "306/306 [==============================] - 670s 2s/step - loss: 1.4279 - accuracy: 0.5623 - val_loss: 1.3752 - val_accuracy: 0.5612\n"
     ]
    },
    {
     "data": {
      "text/plain": [
       "<keras.callbacks.History at 0x2cb5df070>"
      ]
     },
     "execution_count": 26,
     "metadata": {},
     "output_type": "execute_result"
    }
   ],
   "source": [
    "es = EarlyStopping(patience = 20, restore_best_weights = True)\n",
    "model.fit(X_train, y_train,\n",
    "        batch_size=16,\n",
    "        epochs=2,\n",
    "        validation_split=0.3,\n",
    "        callbacks=[es],\n",
    "        verbose = 1)"
   ]
  },
  {
   "cell_type": "code",
   "execution_count": 28,
   "id": "c138f180",
   "metadata": {},
   "outputs": [
    {
     "name": "stdout",
     "output_type": "stream",
     "text": [
      "94/94 - 55s - loss: 1.3250 - accuracy: 0.5827 - 55s/epoch - 589ms/step\n"
     ]
    }
   ],
   "source": [
    "score = model.evaluate(X_test, y_test, verbose=2)"
   ]
  },
  {
   "cell_type": "code",
   "execution_count": 29,
   "id": "f48e9709",
   "metadata": {},
   "outputs": [
    {
     "name": "stderr",
     "output_type": "stream",
     "text": [
      "2022-07-15 17:52:41.121288: W tensorflow/python/util/util.cc:368] Sets are not currently considered sequences, but this may change in the future, so consider avoiding using them.\n"
     ]
    },
    {
     "name": "stdout",
     "output_type": "stream",
     "text": [
      "INFO:tensorflow:Assets written to: ram://7626b903-1e46-4668-845c-ad503c9119ea/assets\n"
     ]
    },
    {
     "data": {
      "text/plain": [
       "['model.joblib']"
      ]
     },
     "execution_count": 29,
     "metadata": {},
     "output_type": "execute_result"
    }
   ],
   "source": [
    "joblib.dump(model, 'model.joblib')"
   ]
  },
  {
   "cell_type": "code",
   "execution_count": 30,
   "id": "0a930ef3",
   "metadata": {},
   "outputs": [
    {
     "data": {
      "text/plain": [
       "'/Users/Safaemichelot/code/aidakd/matjari'"
      ]
     },
     "execution_count": 30,
     "metadata": {},
     "output_type": "execute_result"
    }
   ],
   "source": [
    "pwd"
   ]
  },
  {
   "cell_type": "code",
   "execution_count": 31,
   "id": "f970fac1",
   "metadata": {},
   "outputs": [
    {
     "name": "stdout",
     "output_type": "stream",
     "text": [
      "Image_matjari_test.png   \u001b[1m\u001b[36mdist\u001b[m\u001b[m/                    prediction_test.ipynb\r\n",
      "MANIFEST.in              \u001b[1m\u001b[36mmatjari\u001b[m\u001b[m/                 \u001b[1m\u001b[36mraw_data\u001b[m\u001b[m/\r\n",
      "Makefile                 \u001b[1m\u001b[36mmatjari.egg-info\u001b[m\u001b[m/        requirements.txt\r\n",
      "README.md                model.joblib             \u001b[1m\u001b[36mscripts\u001b[m\u001b[m/\r\n",
      "Untitled.ipynb           models_model_cnn.joblib  setup.py\r\n",
      "Untitled2.ipynb          \u001b[1m\u001b[36mnotebooks\u001b[m\u001b[m/               \u001b[1m\u001b[36mtests\u001b[m\u001b[m/\r\n",
      "Untitled3.ipynb          pickl test.ipynb\r\n"
     ]
    }
   ],
   "source": [
    "ls"
   ]
  },
  {
   "cell_type": "code",
   "execution_count": null,
   "id": "b64f9c16",
   "metadata": {},
   "outputs": [],
   "source": []
  }
 ],
 "metadata": {
  "kernelspec": {
   "display_name": "Python 3 (ipykernel)",
   "language": "python",
   "name": "python3"
  },
  "language_info": {
   "codemirror_mode": {
    "name": "ipython",
    "version": 3
   },
   "file_extension": ".py",
   "mimetype": "text/x-python",
   "name": "python",
   "nbconvert_exporter": "python",
   "pygments_lexer": "ipython3",
   "version": "3.8.12"
  },
  "toc": {
   "base_numbering": 1,
   "nav_menu": {},
   "number_sections": true,
   "sideBar": true,
   "skip_h1_title": false,
   "title_cell": "Table of Contents",
   "title_sidebar": "Contents",
   "toc_cell": false,
   "toc_position": {},
   "toc_section_display": true,
   "toc_window_display": false
  }
 },
 "nbformat": 4,
 "nbformat_minor": 5
}
