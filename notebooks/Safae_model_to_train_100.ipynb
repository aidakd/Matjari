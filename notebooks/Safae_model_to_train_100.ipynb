{
 "cells": [
  {
   "cell_type": "markdown",
   "id": "2edfe3eb",
   "metadata": {},
   "source": [
    "## Testing the python package locally before moving to cloud"
   ]
  },
  {
   "cell_type": "code",
   "execution_count": 1,
   "id": "742ec41b",
   "metadata": {},
   "outputs": [],
   "source": [
    "%load_ext autoreload\n",
    "%autoreload 2"
   ]
  },
  {
   "cell_type": "code",
   "execution_count": 2,
   "id": "b9deacba",
   "metadata": {},
   "outputs": [],
   "source": [
    "from matjari.load_data import get_data, load_json, load_img, load_nrows, encod, split_data\n",
    "data = get_data()\n",
    "data = load_json(data)\n",
    "data = load_img(data)\n",
    "data = load_nrows(data)"
   ]
  },
  {
   "cell_type": "code",
   "execution_count": 3,
   "id": "bc9a583b",
   "metadata": {},
   "outputs": [
    {
     "data": {
      "text/html": [
       "<div>\n",
       "<style scoped>\n",
       "    .dataframe tbody tr th:only-of-type {\n",
       "        vertical-align: middle;\n",
       "    }\n",
       "\n",
       "    .dataframe tbody tr th {\n",
       "        vertical-align: top;\n",
       "    }\n",
       "\n",
       "    .dataframe thead th {\n",
       "        text-align: right;\n",
       "    }\n",
       "</style>\n",
       "<table border=\"1\" class=\"dataframe\">\n",
       "  <thead>\n",
       "    <tr style=\"text-align: right;\">\n",
       "      <th></th>\n",
       "      <th>Product Label</th>\n",
       "      <th>url</th>\n",
       "      <th>key</th>\n",
       "      <th>status</th>\n",
       "      <th>error_message</th>\n",
       "      <th>width</th>\n",
       "      <th>height</th>\n",
       "      <th>original_width</th>\n",
       "      <th>original_height</th>\n",
       "      <th>exif</th>\n",
       "      <th>md5</th>\n",
       "      <th>A</th>\n",
       "    </tr>\n",
       "  </thead>\n",
       "  <tbody>\n",
       "    <tr>\n",
       "      <th>1208</th>\n",
       "      <td>Bag</td>\n",
       "      <td>https://cdn.shopify.com/s/files/1/0050/7478/02...</td>\n",
       "      <td>000001415</td>\n",
       "      <td>success</td>\n",
       "      <td>None</td>\n",
       "      <td>256</td>\n",
       "      <td>256</td>\n",
       "      <td>1440</td>\n",
       "      <td>1440</td>\n",
       "      <td>{\"Image Orientation\": \"Horizontal (normal)\", \"...</td>\n",
       "      <td>2866dd5284383420afaab6ab75ebbc8a</td>\n",
       "      <td>[[[254, 254, 254], [254, 254, 254], [254, 254,...</td>\n",
       "    </tr>\n",
       "    <tr>\n",
       "      <th>8375</th>\n",
       "      <td>Rug</td>\n",
       "      <td>https://cdn.shopify.com/s/files/1/0050/7478/02...</td>\n",
       "      <td>000009210</td>\n",
       "      <td>success</td>\n",
       "      <td>None</td>\n",
       "      <td>256</td>\n",
       "      <td>256</td>\n",
       "      <td>1172</td>\n",
       "      <td>1172</td>\n",
       "      <td>{\"Image HostComputer\": \"imagery4\"}</td>\n",
       "      <td>549b0d25914f4b6441c1f172ce145ab8</td>\n",
       "      <td>[[[5, 27, 138], [3, 25, 136], [3, 25, 136], [4...</td>\n",
       "    </tr>\n",
       "    <tr>\n",
       "      <th>6563</th>\n",
       "      <td>Necklace</td>\n",
       "      <td>https://cdn.shopify.com/s/files/1/0050/7478/02...</td>\n",
       "      <td>000005862</td>\n",
       "      <td>success</td>\n",
       "      <td>None</td>\n",
       "      <td>256</td>\n",
       "      <td>256</td>\n",
       "      <td>1149</td>\n",
       "      <td>1150</td>\n",
       "      <td>{\"Image HostComputer\": \"imagery4\"}</td>\n",
       "      <td>39e21571ca2e0c9faf61709372bff993</td>\n",
       "      <td>[[[255, 255, 255], [255, 255, 255], [255, 255,...</td>\n",
       "    </tr>\n",
       "    <tr>\n",
       "      <th>6937</th>\n",
       "      <td>Pouf</td>\n",
       "      <td>https://cdn.shopify.com/s/files/1/0050/7478/02...</td>\n",
       "      <td>000007565</td>\n",
       "      <td>success</td>\n",
       "      <td>None</td>\n",
       "      <td>256</td>\n",
       "      <td>256</td>\n",
       "      <td>3751</td>\n",
       "      <td>3751</td>\n",
       "      <td>{}</td>\n",
       "      <td>f2634f0bbe6aa541b7fde9710ea0c688</td>\n",
       "      <td>[[[255, 255, 255], [255, 255, 255], [255, 255,...</td>\n",
       "    </tr>\n",
       "    <tr>\n",
       "      <th>6647</th>\n",
       "      <td>Poster</td>\n",
       "      <td>https://cdn.shopify.com/s/files/1/0050/7478/02...</td>\n",
       "      <td>000002067</td>\n",
       "      <td>success</td>\n",
       "      <td>None</td>\n",
       "      <td>256</td>\n",
       "      <td>256</td>\n",
       "      <td>2058</td>\n",
       "      <td>2058</td>\n",
       "      <td>{\"Image Orientation\": \"Horizontal (normal)\", \"...</td>\n",
       "      <td>e16ee21943af09a233a15d3335b5060e</td>\n",
       "      <td>[[[255, 255, 255], [255, 255, 255], [255, 255,...</td>\n",
       "    </tr>\n",
       "    <tr>\n",
       "      <th>...</th>\n",
       "      <td>...</td>\n",
       "      <td>...</td>\n",
       "      <td>...</td>\n",
       "      <td>...</td>\n",
       "      <td>...</td>\n",
       "      <td>...</td>\n",
       "      <td>...</td>\n",
       "      <td>...</td>\n",
       "      <td>...</td>\n",
       "      <td>...</td>\n",
       "      <td>...</td>\n",
       "      <td>...</td>\n",
       "    </tr>\n",
       "    <tr>\n",
       "      <th>8460</th>\n",
       "      <td>Rug</td>\n",
       "      <td>https://cdn.shopify.com/s/files/1/0050/7478/02...</td>\n",
       "      <td>000009295</td>\n",
       "      <td>success</td>\n",
       "      <td>None</td>\n",
       "      <td>256</td>\n",
       "      <td>256</td>\n",
       "      <td>856</td>\n",
       "      <td>856</td>\n",
       "      <td>{\"Image HostComputer\": \"imagery4\"}</td>\n",
       "      <td>7c9caf72249215810304cc6f7c19500c</td>\n",
       "      <td>[[[170, 218, 240], [169, 217, 237], [165, 210,...</td>\n",
       "    </tr>\n",
       "    <tr>\n",
       "      <th>8024</th>\n",
       "      <td>Rug</td>\n",
       "      <td>https://cdn.shopify.com/s/files/1/0050/7478/02...</td>\n",
       "      <td>000008859</td>\n",
       "      <td>success</td>\n",
       "      <td>None</td>\n",
       "      <td>256</td>\n",
       "      <td>256</td>\n",
       "      <td>780</td>\n",
       "      <td>975</td>\n",
       "      <td>{\"Image HostComputer\": \"imagery4\"}</td>\n",
       "      <td>83c1dc5f70afc454aa035bf603bb7aa5</td>\n",
       "      <td>[[[255, 255, 255], [255, 255, 255], [255, 255,...</td>\n",
       "    </tr>\n",
       "    <tr>\n",
       "      <th>8009</th>\n",
       "      <td>Rug</td>\n",
       "      <td>https://cdn.shopify.com/s/files/1/0050/7478/02...</td>\n",
       "      <td>000008844</td>\n",
       "      <td>success</td>\n",
       "      <td>None</td>\n",
       "      <td>256</td>\n",
       "      <td>256</td>\n",
       "      <td>1040</td>\n",
       "      <td>780</td>\n",
       "      <td>{\"Image HostComputer\": \"imagery4\"}</td>\n",
       "      <td>a4f7046f9918fc5690e62a5b3f3ab7bb</td>\n",
       "      <td>[[[255, 255, 255], [255, 255, 255], [255, 255,...</td>\n",
       "    </tr>\n",
       "    <tr>\n",
       "      <th>1728</th>\n",
       "      <td>Blanket</td>\n",
       "      <td>https://cdn.shopify.com/s/files/1/0050/7478/02...</td>\n",
       "      <td>000001651</td>\n",
       "      <td>success</td>\n",
       "      <td>None</td>\n",
       "      <td>256</td>\n",
       "      <td>256</td>\n",
       "      <td>1000</td>\n",
       "      <td>1000</td>\n",
       "      <td>{\"Image HostComputer\": \"imagery4\"}</td>\n",
       "      <td>8299c983e4f131cf8b6b4db34dac3d02</td>\n",
       "      <td>[[[176, 177, 169], [177, 178, 170], [177, 178,...</td>\n",
       "    </tr>\n",
       "    <tr>\n",
       "      <th>10215</th>\n",
       "      <td>Shoes</td>\n",
       "      <td>https://cdn.shopify.com/s/files/1/0050/7478/02...</td>\n",
       "      <td>000009673</td>\n",
       "      <td>success</td>\n",
       "      <td>None</td>\n",
       "      <td>256</td>\n",
       "      <td>256</td>\n",
       "      <td>2009</td>\n",
       "      <td>2009</td>\n",
       "      <td>{\"Image Orientation\": \"Horizontal (normal)\", \"...</td>\n",
       "      <td>52338194b86cddd2484950c953a8fb5d</td>\n",
       "      <td>[[[255, 255, 255], [255, 255, 255], [255, 255,...</td>\n",
       "    </tr>\n",
       "  </tbody>\n",
       "</table>\n",
       "<p>100 rows × 12 columns</p>\n",
       "</div>"
      ],
      "text/plain": [
       "      Product Label                                                url  \\\n",
       "1208            Bag  https://cdn.shopify.com/s/files/1/0050/7478/02...   \n",
       "8375            Rug  https://cdn.shopify.com/s/files/1/0050/7478/02...   \n",
       "6563       Necklace  https://cdn.shopify.com/s/files/1/0050/7478/02...   \n",
       "6937           Pouf  https://cdn.shopify.com/s/files/1/0050/7478/02...   \n",
       "6647         Poster  https://cdn.shopify.com/s/files/1/0050/7478/02...   \n",
       "...             ...                                                ...   \n",
       "8460            Rug  https://cdn.shopify.com/s/files/1/0050/7478/02...   \n",
       "8024            Rug  https://cdn.shopify.com/s/files/1/0050/7478/02...   \n",
       "8009            Rug  https://cdn.shopify.com/s/files/1/0050/7478/02...   \n",
       "1728        Blanket  https://cdn.shopify.com/s/files/1/0050/7478/02...   \n",
       "10215         Shoes  https://cdn.shopify.com/s/files/1/0050/7478/02...   \n",
       "\n",
       "             key   status error_message  width  height  original_width  \\\n",
       "1208   000001415  success          None    256     256            1440   \n",
       "8375   000009210  success          None    256     256            1172   \n",
       "6563   000005862  success          None    256     256            1149   \n",
       "6937   000007565  success          None    256     256            3751   \n",
       "6647   000002067  success          None    256     256            2058   \n",
       "...          ...      ...           ...    ...     ...             ...   \n",
       "8460   000009295  success          None    256     256             856   \n",
       "8024   000008859  success          None    256     256             780   \n",
       "8009   000008844  success          None    256     256            1040   \n",
       "1728   000001651  success          None    256     256            1000   \n",
       "10215  000009673  success          None    256     256            2009   \n",
       "\n",
       "       original_height                                               exif  \\\n",
       "1208              1440  {\"Image Orientation\": \"Horizontal (normal)\", \"...   \n",
       "8375              1172                 {\"Image HostComputer\": \"imagery4\"}   \n",
       "6563              1150                 {\"Image HostComputer\": \"imagery4\"}   \n",
       "6937              3751                                                 {}   \n",
       "6647              2058  {\"Image Orientation\": \"Horizontal (normal)\", \"...   \n",
       "...                ...                                                ...   \n",
       "8460               856                 {\"Image HostComputer\": \"imagery4\"}   \n",
       "8024               975                 {\"Image HostComputer\": \"imagery4\"}   \n",
       "8009               780                 {\"Image HostComputer\": \"imagery4\"}   \n",
       "1728              1000                 {\"Image HostComputer\": \"imagery4\"}   \n",
       "10215             2009  {\"Image Orientation\": \"Horizontal (normal)\", \"...   \n",
       "\n",
       "                                    md5  \\\n",
       "1208   2866dd5284383420afaab6ab75ebbc8a   \n",
       "8375   549b0d25914f4b6441c1f172ce145ab8   \n",
       "6563   39e21571ca2e0c9faf61709372bff993   \n",
       "6937   f2634f0bbe6aa541b7fde9710ea0c688   \n",
       "6647   e16ee21943af09a233a15d3335b5060e   \n",
       "...                                 ...   \n",
       "8460   7c9caf72249215810304cc6f7c19500c   \n",
       "8024   83c1dc5f70afc454aa035bf603bb7aa5   \n",
       "8009   a4f7046f9918fc5690e62a5b3f3ab7bb   \n",
       "1728   8299c983e4f131cf8b6b4db34dac3d02   \n",
       "10215  52338194b86cddd2484950c953a8fb5d   \n",
       "\n",
       "                                                       A  \n",
       "1208   [[[254, 254, 254], [254, 254, 254], [254, 254,...  \n",
       "8375   [[[5, 27, 138], [3, 25, 136], [3, 25, 136], [4...  \n",
       "6563   [[[255, 255, 255], [255, 255, 255], [255, 255,...  \n",
       "6937   [[[255, 255, 255], [255, 255, 255], [255, 255,...  \n",
       "6647   [[[255, 255, 255], [255, 255, 255], [255, 255,...  \n",
       "...                                                  ...  \n",
       "8460   [[[170, 218, 240], [169, 217, 237], [165, 210,...  \n",
       "8024   [[[255, 255, 255], [255, 255, 255], [255, 255,...  \n",
       "8009   [[[255, 255, 255], [255, 255, 255], [255, 255,...  \n",
       "1728   [[[176, 177, 169], [177, 178, 170], [177, 178,...  \n",
       "10215  [[[255, 255, 255], [255, 255, 255], [255, 255,...  \n",
       "\n",
       "[100 rows x 12 columns]"
      ]
     },
     "execution_count": 3,
     "metadata": {},
     "output_type": "execute_result"
    }
   ],
   "source": [
    "data"
   ]
  },
  {
   "cell_type": "code",
   "execution_count": 4,
   "id": "3dbb4f2f",
   "metadata": {},
   "outputs": [],
   "source": [
    "X, y = encod(data)"
   ]
  },
  {
   "cell_type": "code",
   "execution_count": 5,
   "id": "642c3a43",
   "metadata": {},
   "outputs": [],
   "source": [
    "X_train, X_test, y_train, y_test = split_data(X, y)"
   ]
  },
  {
   "cell_type": "code",
   "execution_count": 8,
   "id": "fa6b569c",
   "metadata": {},
   "outputs": [],
   "source": [
    "from matjari.trainer import Trainer\n"
   ]
  },
  {
   "cell_type": "code",
   "execution_count": 13,
   "id": "bf4d6418",
   "metadata": {},
   "outputs": [],
   "source": [
    "trainer = Trainer('model')"
   ]
  },
  {
   "cell_type": "code",
   "execution_count": 14,
   "id": "12e75a44",
   "metadata": {},
   "outputs": [],
   "source": [
    "model = trainer.get_model()"
   ]
  },
  {
   "cell_type": "code",
   "execution_count": 15,
   "id": "f7f24531",
   "metadata": {},
   "outputs": [],
   "source": [
    "model"
   ]
  },
  {
   "cell_type": "code",
   "execution_count": 16,
   "id": "58ae953f",
   "metadata": {
    "scrolled": true
   },
   "outputs": [
    {
     "name": "stdout",
     "output_type": "stream",
     "text": [
      "Epoch 1/100\n",
      "4/4 - 9s - loss: 3.3464 - accuracy: 0.0612 - val_loss: 3.3054 - val_accuracy: 0.0476 - 9s/epoch - 2s/step\n",
      "Epoch 2/100\n",
      "4/4 - 7s - loss: 3.2244 - accuracy: 0.1837 - val_loss: 3.2596 - val_accuracy: 0.0476 - 7s/epoch - 2s/step\n",
      "Epoch 3/100\n",
      "4/4 - 7s - loss: 3.0890 - accuracy: 0.1837 - val_loss: 3.2314 - val_accuracy: 0.0476 - 7s/epoch - 2s/step\n",
      "Epoch 4/100\n",
      "4/4 - 7s - loss: 2.9908 - accuracy: 0.1837 - val_loss: 3.2400 - val_accuracy: 0.0476 - 7s/epoch - 2s/step\n",
      "Epoch 5/100\n",
      "4/4 - 7s - loss: 2.9106 - accuracy: 0.1837 - val_loss: 3.2335 - val_accuracy: 0.0476 - 7s/epoch - 2s/step\n",
      "Epoch 6/100\n",
      "4/4 - 7s - loss: 2.8553 - accuracy: 0.2041 - val_loss: 3.2632 - val_accuracy: 0.0476 - 7s/epoch - 2s/step\n",
      "Epoch 7/100\n",
      "4/4 - 7s - loss: 2.8683 - accuracy: 0.1837 - val_loss: 3.3567 - val_accuracy: 0.0000e+00 - 7s/epoch - 2s/step\n",
      "Epoch 8/100\n",
      "4/4 - 7s - loss: 2.8489 - accuracy: 0.1429 - val_loss: 3.3568 - val_accuracy: 0.0476 - 7s/epoch - 2s/step\n",
      "Epoch 9/100\n",
      "4/4 - 7s - loss: 2.7721 - accuracy: 0.2245 - val_loss: 3.3065 - val_accuracy: 0.0476 - 7s/epoch - 2s/step\n",
      "Epoch 10/100\n",
      "4/4 - 7s - loss: 2.7393 - accuracy: 0.2245 - val_loss: 3.3196 - val_accuracy: 0.0476 - 7s/epoch - 2s/step\n",
      "Epoch 11/100\n",
      "4/4 - 7s - loss: 2.7313 - accuracy: 0.2245 - val_loss: 3.3825 - val_accuracy: 0.0476 - 7s/epoch - 2s/step\n",
      "Epoch 12/100\n",
      "4/4 - 7s - loss: 2.6721 - accuracy: 0.3265 - val_loss: 3.5140 - val_accuracy: 0.0476 - 7s/epoch - 2s/step\n",
      "Epoch 13/100\n",
      "4/4 - 7s - loss: 2.6369 - accuracy: 0.3265 - val_loss: 3.6918 - val_accuracy: 0.0476 - 7s/epoch - 2s/step\n",
      "Epoch 14/100\n",
      "4/4 - 7s - loss: 2.5932 - accuracy: 0.2653 - val_loss: 3.4726 - val_accuracy: 0.0476 - 7s/epoch - 2s/step\n",
      "Epoch 15/100\n",
      "4/4 - 7s - loss: 2.5040 - accuracy: 0.3469 - val_loss: 3.4000 - val_accuracy: 0.1429 - 7s/epoch - 2s/step\n",
      "Epoch 16/100\n",
      "4/4 - 7s - loss: 2.4602 - accuracy: 0.3878 - val_loss: 3.4602 - val_accuracy: 0.0476 - 7s/epoch - 2s/step\n",
      "Epoch 17/100\n",
      "4/4 - 7s - loss: 2.3806 - accuracy: 0.2245 - val_loss: 3.7876 - val_accuracy: 0.0476 - 7s/epoch - 2s/step\n",
      "Epoch 18/100\n",
      "4/4 - 7s - loss: 2.5388 - accuracy: 0.1837 - val_loss: 3.7122 - val_accuracy: 0.0476 - 7s/epoch - 2s/step\n",
      "Epoch 19/100\n",
      "4/4 - 7s - loss: 2.2974 - accuracy: 0.2857 - val_loss: 3.3784 - val_accuracy: 0.0476 - 7s/epoch - 2s/step\n",
      "Epoch 20/100\n",
      "4/4 - 7s - loss: 2.2598 - accuracy: 0.3265 - val_loss: 3.3366 - val_accuracy: 0.0476 - 7s/epoch - 2s/step\n",
      "Epoch 21/100\n",
      "4/4 - 7s - loss: 2.2086 - accuracy: 0.3878 - val_loss: 3.3681 - val_accuracy: 0.0952 - 7s/epoch - 2s/step\n",
      "Epoch 22/100\n",
      "4/4 - 7s - loss: 2.1417 - accuracy: 0.4286 - val_loss: 3.4103 - val_accuracy: 0.1429 - 7s/epoch - 2s/step\n",
      "Epoch 23/100\n",
      "4/4 - 7s - loss: 2.0655 - accuracy: 0.5102 - val_loss: 3.3331 - val_accuracy: 0.1429 - 7s/epoch - 2s/step\n"
     ]
    }
   ],
   "source": [
    "history = trainer.fit()"
   ]
  },
  {
   "cell_type": "code",
   "execution_count": 17,
   "id": "9198df9f",
   "metadata": {},
   "outputs": [
    {
     "name": "stdout",
     "output_type": "stream",
     "text": [
      "1/1 - 1s - loss: 3.1423 - accuracy: 0.1333 - 668ms/epoch - 668ms/step\n"
     ]
    }
   ],
   "source": [
    "score = trainer.evaluate()"
   ]
  },
  {
   "cell_type": "code",
   "execution_count": 18,
   "id": "28728ce7",
   "metadata": {},
   "outputs": [
    {
     "name": "stderr",
     "output_type": "stream",
     "text": [
      "2022-07-02 20:29:45.084210: W tensorflow/python/util/util.cc:368] Sets are not currently considered sequences, but this may change in the future, so consider avoiding using them.\n"
     ]
    },
    {
     "name": "stdout",
     "output_type": "stream",
     "text": [
      "INFO:tensorflow:Assets written to: ram://642970ba-2fad-4a74-9f0d-addd2e71634b/assets\n"
     ]
    }
   ],
   "source": [
    "trainer.save_model()"
   ]
  },
  {
   "cell_type": "code",
   "execution_count": 30,
   "id": "597bf83a",
   "metadata": {},
   "outputs": [
    {
     "ename": "TypeError",
     "evalue": "upload_model_to_gcp() takes 0 positional arguments but 1 was given",
     "output_type": "error",
     "traceback": [
      "\u001b[0;31m---------------------------------------------------------------------------\u001b[0m",
      "\u001b[0;31mTypeError\u001b[0m                                 Traceback (most recent call last)",
      "Input \u001b[0;32mIn [30]\u001b[0m, in \u001b[0;36m<cell line: 1>\u001b[0;34m()\u001b[0m\n\u001b[0;32m----> 1\u001b[0m \u001b[43mtrainer\u001b[49m\u001b[38;5;241;43m.\u001b[39;49m\u001b[43mupload_model_to_gcp\u001b[49m\u001b[43m(\u001b[49m\u001b[43m)\u001b[49m\n",
      "\u001b[0;31mTypeError\u001b[0m: upload_model_to_gcp() takes 0 positional arguments but 1 was given"
     ]
    }
   ],
   "source": [
    "trainer.upload_model_to_gcp()"
   ]
  },
  {
   "cell_type": "code",
   "execution_count": null,
   "id": "acc8a22c",
   "metadata": {},
   "outputs": [],
   "source": []
  }
 ],
 "metadata": {
  "kernelspec": {
   "display_name": "Python 3 (ipykernel)",
   "language": "python",
   "name": "python3"
  },
  "language_info": {
   "codemirror_mode": {
    "name": "ipython",
    "version": 3
   },
   "file_extension": ".py",
   "mimetype": "text/x-python",
   "name": "python",
   "nbconvert_exporter": "python",
   "pygments_lexer": "ipython3",
   "version": "3.8.12"
  },
  "toc": {
   "base_numbering": 1,
   "nav_menu": {},
   "number_sections": true,
   "sideBar": true,
   "skip_h1_title": false,
   "title_cell": "Table of Contents",
   "title_sidebar": "Contents",
   "toc_cell": false,
   "toc_position": {},
   "toc_section_display": true,
   "toc_window_display": false
  }
 },
 "nbformat": 4,
 "nbformat_minor": 5
}
