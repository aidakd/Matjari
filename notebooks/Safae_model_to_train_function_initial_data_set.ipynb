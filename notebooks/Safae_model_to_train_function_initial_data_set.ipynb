{
 "cells": [
  {
   "cell_type": "markdown",
   "id": "2edfe3eb",
   "metadata": {},
   "source": [
    "## Testing the python package locally before moving to cloud"
   ]
  },
  {
   "cell_type": "code",
   "execution_count": 1,
   "id": "742ec41b",
   "metadata": {},
   "outputs": [],
   "source": [
    "%load_ext autoreload\n",
    "%autoreload 2"
   ]
  },
  {
   "cell_type": "code",
   "execution_count": 2,
   "id": "60228def",
   "metadata": {},
   "outputs": [
    {
     "data": {
      "text/plain": [
       "'/Users/Safaemichelot/code/aidakd/matjari/notebooks'"
      ]
     },
     "execution_count": 2,
     "metadata": {},
     "output_type": "execute_result"
    }
   ],
   "source": [
    "pwd"
   ]
  },
  {
   "cell_type": "code",
   "execution_count": null,
   "id": "b9deacba",
   "metadata": {},
   "outputs": [],
   "source": [
    "from matjari.load_data import get_data, get_data_using_blob, load_json, load_img, encod, split_data\n",
    "data = get_data()\n"
   ]
  },
  {
   "cell_type": "code",
   "execution_count": null,
   "id": "28f00d35",
   "metadata": {},
   "outputs": [],
   "source": [
    "data"
   ]
  },
  {
   "cell_type": "code",
   "execution_count": null,
   "id": "5ca258a9",
   "metadata": {},
   "outputs": [],
   "source": [
    "pwd"
   ]
  },
  {
   "cell_type": "code",
   "execution_count": null,
   "id": "11ac7523",
   "metadata": {},
   "outputs": [],
   "source": [
    "data = load_json(data)\n"
   ]
  },
  {
   "cell_type": "code",
   "execution_count": null,
   "id": "21acd2ae",
   "metadata": {},
   "outputs": [],
   "source": [
    "data = load_img(data)"
   ]
  },
  {
   "cell_type": "code",
   "execution_count": null,
   "id": "bc9a583b",
   "metadata": {},
   "outputs": [],
   "source": [
    "data"
   ]
  },
  {
   "cell_type": "code",
   "execution_count": null,
   "id": "3dbb4f2f",
   "metadata": {},
   "outputs": [],
   "source": [
    "X, y = encod(data)"
   ]
  },
  {
   "cell_type": "code",
   "execution_count": null,
   "id": "642c3a43",
   "metadata": {},
   "outputs": [],
   "source": [
    "X_train, X_test, y_train, y_test = split_data(X, y)"
   ]
  },
  {
   "cell_type": "code",
   "execution_count": null,
   "id": "fa6b569c",
   "metadata": {},
   "outputs": [],
   "source": [
    "from matjari.trainer import Trainer\n"
   ]
  },
  {
   "cell_type": "code",
   "execution_count": null,
   "id": "bf4d6418",
   "metadata": {},
   "outputs": [],
   "source": [
    "trainer = Trainer('model')"
   ]
  },
  {
   "cell_type": "code",
   "execution_count": null,
   "id": "12e75a44",
   "metadata": {},
   "outputs": [],
   "source": [
    "model = trainer.get_model()"
   ]
  },
  {
   "cell_type": "code",
   "execution_count": null,
   "id": "f7f24531",
   "metadata": {},
   "outputs": [],
   "source": [
    "model"
   ]
  },
  {
   "cell_type": "code",
   "execution_count": null,
   "id": "58ae953f",
   "metadata": {
    "scrolled": true
   },
   "outputs": [],
   "source": [
    "history = trainer.fit()"
   ]
  },
  {
   "cell_type": "code",
   "execution_count": null,
   "id": "9198df9f",
   "metadata": {},
   "outputs": [],
   "source": [
    "score = trainer.evaluate()"
   ]
  },
  {
   "cell_type": "code",
   "execution_count": null,
   "id": "921ab7f9",
   "metadata": {},
   "outputs": [],
   "source": []
  },
  {
   "cell_type": "code",
   "execution_count": null,
   "id": "28728ce7",
   "metadata": {},
   "outputs": [],
   "source": [
    "trainer.save_model()"
   ]
  },
  {
   "cell_type": "code",
   "execution_count": null,
   "id": "597bf83a",
   "metadata": {},
   "outputs": [],
   "source": [
    "trainer.upload_model_to_gcp()"
   ]
  },
  {
   "cell_type": "code",
   "execution_count": null,
   "id": "acc8a22c",
   "metadata": {},
   "outputs": [],
   "source": []
  }
 ],
 "metadata": {
  "kernelspec": {
   "display_name": "Python 3 (ipykernel)",
   "language": "python",
   "name": "python3"
  },
  "language_info": {
   "codemirror_mode": {
    "name": "ipython",
    "version": 3
   },
   "file_extension": ".py",
   "mimetype": "text/x-python",
   "name": "python",
   "nbconvert_exporter": "python",
   "pygments_lexer": "ipython3",
   "version": "3.8.12"
  },
  "toc": {
   "base_numbering": 1,
   "nav_menu": {},
   "number_sections": true,
   "sideBar": true,
   "skip_h1_title": false,
   "title_cell": "Table of Contents",
   "title_sidebar": "Contents",
   "toc_cell": false,
   "toc_position": {},
   "toc_section_display": true,
   "toc_window_display": false
  }
 },
 "nbformat": 4,
 "nbformat_minor": 5
}
