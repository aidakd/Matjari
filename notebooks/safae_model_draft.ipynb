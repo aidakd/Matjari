{
 "cells": [
  {
   "cell_type": "markdown",
   "id": "984eb87a",
   "metadata": {},
   "source": [
    "Get data file\n",
    "\n",
    "Define X = images and y = multi-classes labels\n",
    "\n",
    "preprocessing\n",
    "\n",
    "data split"
   ]
  },
  {
   "cell_type": "markdown",
   "id": "2890422f",
   "metadata": {},
   "source": [
    "## Data set for testing"
   ]
  },
  {
   "cell_type": "code",
   "execution_count": 1,
   "id": "36c8d870",
   "metadata": {},
   "outputs": [],
   "source": [
    "import pandas as pd\n",
    "import numpy as np"
   ]
  },
  {
   "cell_type": "code",
   "execution_count": 2,
   "id": "002e23ab",
   "metadata": {
    "scrolled": true
   },
   "outputs": [
    {
     "data": {
      "text/html": [
       "<div>\n",
       "<style scoped>\n",
       "    .dataframe tbody tr th:only-of-type {\n",
       "        vertical-align: middle;\n",
       "    }\n",
       "\n",
       "    .dataframe tbody tr th {\n",
       "        vertical-align: top;\n",
       "    }\n",
       "\n",
       "    .dataframe thead th {\n",
       "        text-align: right;\n",
       "    }\n",
       "</style>\n",
       "<table border=\"1\" class=\"dataframe\">\n",
       "  <thead>\n",
       "    <tr style=\"text-align: right;\">\n",
       "      <th></th>\n",
       "      <th>age</th>\n",
       "      <th>ethnicity</th>\n",
       "      <th>gender</th>\n",
       "      <th>img_name</th>\n",
       "      <th>pixels</th>\n",
       "    </tr>\n",
       "  </thead>\n",
       "  <tbody>\n",
       "    <tr>\n",
       "      <th>0</th>\n",
       "      <td>1</td>\n",
       "      <td>2</td>\n",
       "      <td>0</td>\n",
       "      <td>20161219203650636.jpg.chip.jpg</td>\n",
       "      <td>129 128 128 126 127 130 133 135 139 142 145 14...</td>\n",
       "    </tr>\n",
       "    <tr>\n",
       "      <th>1</th>\n",
       "      <td>1</td>\n",
       "      <td>2</td>\n",
       "      <td>0</td>\n",
       "      <td>20161219222752047.jpg.chip.jpg</td>\n",
       "      <td>164 74 111 168 169 171 175 182 184 188 193 199...</td>\n",
       "    </tr>\n",
       "    <tr>\n",
       "      <th>2</th>\n",
       "      <td>1</td>\n",
       "      <td>2</td>\n",
       "      <td>0</td>\n",
       "      <td>20161219222832191.jpg.chip.jpg</td>\n",
       "      <td>67 70 71 70 69 67 70 79 90 103 116 132 145 155...</td>\n",
       "    </tr>\n",
       "    <tr>\n",
       "      <th>3</th>\n",
       "      <td>1</td>\n",
       "      <td>2</td>\n",
       "      <td>0</td>\n",
       "      <td>20161220144911423.jpg.chip.jpg</td>\n",
       "      <td>193 197 198 200 199 200 202 203 204 205 208 21...</td>\n",
       "    </tr>\n",
       "    <tr>\n",
       "      <th>4</th>\n",
       "      <td>1</td>\n",
       "      <td>2</td>\n",
       "      <td>0</td>\n",
       "      <td>20161220144914327.jpg.chip.jpg</td>\n",
       "      <td>202 205 209 210 209 209 210 211 212 214 218 21...</td>\n",
       "    </tr>\n",
       "    <tr>\n",
       "      <th>...</th>\n",
       "      <td>...</td>\n",
       "      <td>...</td>\n",
       "      <td>...</td>\n",
       "      <td>...</td>\n",
       "      <td>...</td>\n",
       "    </tr>\n",
       "    <tr>\n",
       "      <th>995</th>\n",
       "      <td>1</td>\n",
       "      <td>0</td>\n",
       "      <td>1</td>\n",
       "      <td>20170103213335661.jpg.chip.jpg</td>\n",
       "      <td>115 137 156 161 166 168 145 145 114 130 136 13...</td>\n",
       "    </tr>\n",
       "    <tr>\n",
       "      <th>996</th>\n",
       "      <td>1</td>\n",
       "      <td>0</td>\n",
       "      <td>1</td>\n",
       "      <td>20170103213137956.jpg.chip.jpg</td>\n",
       "      <td>35 55 62 68 90 104 103 104 120 129 117 126 132...</td>\n",
       "    </tr>\n",
       "    <tr>\n",
       "      <th>997</th>\n",
       "      <td>1</td>\n",
       "      <td>0</td>\n",
       "      <td>1</td>\n",
       "      <td>20161220220457473.jpg.chip.jpg</td>\n",
       "      <td>242 240 216 183 202 201 198 196 197 198 201 20...</td>\n",
       "    </tr>\n",
       "    <tr>\n",
       "      <th>998</th>\n",
       "      <td>1</td>\n",
       "      <td>0</td>\n",
       "      <td>1</td>\n",
       "      <td>20161220220143105.jpg.chip.jpg</td>\n",
       "      <td>54 83 97 115 132 139 134 139 64 37 31 66 149 7...</td>\n",
       "    </tr>\n",
       "    <tr>\n",
       "      <th>999</th>\n",
       "      <td>1</td>\n",
       "      <td>0</td>\n",
       "      <td>1</td>\n",
       "      <td>20161220220141090.jpg.chip.jpg</td>\n",
       "      <td>25 56 86 143 161 176 184 187 190 189 190 194 1...</td>\n",
       "    </tr>\n",
       "  </tbody>\n",
       "</table>\n",
       "<p>1000 rows × 5 columns</p>\n",
       "</div>"
      ],
      "text/plain": [
       "     age  ethnicity  gender                        img_name  \\\n",
       "0      1          2       0  20161219203650636.jpg.chip.jpg   \n",
       "1      1          2       0  20161219222752047.jpg.chip.jpg   \n",
       "2      1          2       0  20161219222832191.jpg.chip.jpg   \n",
       "3      1          2       0  20161220144911423.jpg.chip.jpg   \n",
       "4      1          2       0  20161220144914327.jpg.chip.jpg   \n",
       "..   ...        ...     ...                             ...   \n",
       "995    1          0       1  20170103213335661.jpg.chip.jpg   \n",
       "996    1          0       1  20170103213137956.jpg.chip.jpg   \n",
       "997    1          0       1  20161220220457473.jpg.chip.jpg   \n",
       "998    1          0       1  20161220220143105.jpg.chip.jpg   \n",
       "999    1          0       1  20161220220141090.jpg.chip.jpg   \n",
       "\n",
       "                                                pixels  \n",
       "0    129 128 128 126 127 130 133 135 139 142 145 14...  \n",
       "1    164 74 111 168 169 171 175 182 184 188 193 199...  \n",
       "2    67 70 71 70 69 67 70 79 90 103 116 132 145 155...  \n",
       "3    193 197 198 200 199 200 202 203 204 205 208 21...  \n",
       "4    202 205 209 210 209 209 210 211 212 214 218 21...  \n",
       "..                                                 ...  \n",
       "995  115 137 156 161 166 168 145 145 114 130 136 13...  \n",
       "996  35 55 62 68 90 104 103 104 120 129 117 126 132...  \n",
       "997  242 240 216 183 202 201 198 196 197 198 201 20...  \n",
       "998  54 83 97 115 132 139 134 139 64 37 31 66 149 7...  \n",
       "999  25 56 86 143 161 176 184 187 190 189 190 194 1...  \n",
       "\n",
       "[1000 rows x 5 columns]"
      ]
     },
     "execution_count": 2,
     "metadata": {},
     "output_type": "execute_result"
    }
   ],
   "source": [
    "data = pd.read_csv('age_gender.csv', nrows= 1000) \n",
    "data"
   ]
  },
  {
   "cell_type": "code",
   "execution_count": 3,
   "id": "cf7db97b",
   "metadata": {},
   "outputs": [
    {
     "data": {
      "text/plain": [
       "2    356\n",
       "0    256\n",
       "3    234\n",
       "4    139\n",
       "1     15\n",
       "Name: ethnicity, dtype: int64"
      ]
     },
     "execution_count": 3,
     "metadata": {},
     "output_type": "execute_result"
    }
   ],
   "source": [
    "data['ethnicity'].value_counts()"
   ]
  },
  {
   "cell_type": "code",
   "execution_count": 4,
   "id": "14e0368d",
   "metadata": {},
   "outputs": [
    {
     "data": {
      "text/html": [
       "<div>\n",
       "<style scoped>\n",
       "    .dataframe tbody tr th:only-of-type {\n",
       "        vertical-align: middle;\n",
       "    }\n",
       "\n",
       "    .dataframe tbody tr th {\n",
       "        vertical-align: top;\n",
       "    }\n",
       "\n",
       "    .dataframe thead th {\n",
       "        text-align: right;\n",
       "    }\n",
       "</style>\n",
       "<table border=\"1\" class=\"dataframe\">\n",
       "  <thead>\n",
       "    <tr style=\"text-align: right;\">\n",
       "      <th></th>\n",
       "      <th>age</th>\n",
       "      <th>ethnicity</th>\n",
       "      <th>gender</th>\n",
       "      <th>img_name</th>\n",
       "      <th>pixels</th>\n",
       "    </tr>\n",
       "  </thead>\n",
       "  <tbody>\n",
       "    <tr>\n",
       "      <th>0</th>\n",
       "      <td>1</td>\n",
       "      <td>2</td>\n",
       "      <td>0</td>\n",
       "      <td>20161219203650636.jpg.chip.jpg</td>\n",
       "      <td>[129.0, 128.0, 128.0, 126.0, 127.0, 130.0, 133...</td>\n",
       "    </tr>\n",
       "    <tr>\n",
       "      <th>1</th>\n",
       "      <td>1</td>\n",
       "      <td>2</td>\n",
       "      <td>0</td>\n",
       "      <td>20161219222752047.jpg.chip.jpg</td>\n",
       "      <td>[164.0, 74.0, 111.0, 168.0, 169.0, 171.0, 175....</td>\n",
       "    </tr>\n",
       "    <tr>\n",
       "      <th>2</th>\n",
       "      <td>1</td>\n",
       "      <td>2</td>\n",
       "      <td>0</td>\n",
       "      <td>20161219222832191.jpg.chip.jpg</td>\n",
       "      <td>[67.0, 70.0, 71.0, 70.0, 69.0, 67.0, 70.0, 79....</td>\n",
       "    </tr>\n",
       "    <tr>\n",
       "      <th>3</th>\n",
       "      <td>1</td>\n",
       "      <td>2</td>\n",
       "      <td>0</td>\n",
       "      <td>20161220144911423.jpg.chip.jpg</td>\n",
       "      <td>[193.0, 197.0, 198.0, 200.0, 199.0, 200.0, 202...</td>\n",
       "    </tr>\n",
       "    <tr>\n",
       "      <th>4</th>\n",
       "      <td>1</td>\n",
       "      <td>2</td>\n",
       "      <td>0</td>\n",
       "      <td>20161220144914327.jpg.chip.jpg</td>\n",
       "      <td>[202.0, 205.0, 209.0, 210.0, 209.0, 209.0, 210...</td>\n",
       "    </tr>\n",
       "  </tbody>\n",
       "</table>\n",
       "</div>"
      ],
      "text/plain": [
       "   age  ethnicity  gender                        img_name  \\\n",
       "0    1          2       0  20161219203650636.jpg.chip.jpg   \n",
       "1    1          2       0  20161219222752047.jpg.chip.jpg   \n",
       "2    1          2       0  20161219222832191.jpg.chip.jpg   \n",
       "3    1          2       0  20161220144911423.jpg.chip.jpg   \n",
       "4    1          2       0  20161220144914327.jpg.chip.jpg   \n",
       "\n",
       "                                              pixels  \n",
       "0  [129.0, 128.0, 128.0, 126.0, 127.0, 130.0, 133...  \n",
       "1  [164.0, 74.0, 111.0, 168.0, 169.0, 171.0, 175....  \n",
       "2  [67.0, 70.0, 71.0, 70.0, 69.0, 67.0, 70.0, 79....  \n",
       "3  [193.0, 197.0, 198.0, 200.0, 199.0, 200.0, 202...  \n",
       "4  [202.0, 205.0, 209.0, 210.0, 209.0, 209.0, 210...  "
      ]
     },
     "execution_count": 4,
     "metadata": {},
     "output_type": "execute_result"
    }
   ],
   "source": [
    "data['pixels']=data['pixels'].apply(lambda x:  np.array(x.split(), dtype=\"float32\"))\n",
    "\n",
    "data.head()"
   ]
  },
  {
   "cell_type": "code",
   "execution_count": 5,
   "id": "f23402d3",
   "metadata": {},
   "outputs": [],
   "source": [
    "data['pixels'] = data['pixels'].apply(lambda x: x/255)"
   ]
  },
  {
   "cell_type": "code",
   "execution_count": 6,
   "id": "863e424c",
   "metadata": {},
   "outputs": [],
   "source": [
    "X = np.array(data['pixels'].tolist())\n",
    "y = np.array(data['ethnicity'])"
   ]
  },
  {
   "cell_type": "code",
   "execution_count": 7,
   "id": "fcff4170",
   "metadata": {
    "scrolled": true
   },
   "outputs": [
    {
     "data": {
      "text/plain": [
       "(1000,)"
      ]
     },
     "execution_count": 7,
     "metadata": {},
     "output_type": "execute_result"
    }
   ],
   "source": [
    "y.shape"
   ]
  },
  {
   "cell_type": "code",
   "execution_count": 8,
   "id": "b89983b7",
   "metadata": {},
   "outputs": [],
   "source": [
    "X = X.reshape(X.shape[0],48,48,1)"
   ]
  },
  {
   "cell_type": "code",
   "execution_count": 9,
   "id": "3a690ec9",
   "metadata": {},
   "outputs": [
    {
     "data": {
      "text/plain": [
       "(1000, 48, 48, 1)"
      ]
     },
     "execution_count": 9,
     "metadata": {},
     "output_type": "execute_result"
    }
   ],
   "source": [
    "X.shape"
   ]
  },
  {
   "cell_type": "code",
   "execution_count": 10,
   "id": "58660648",
   "metadata": {},
   "outputs": [],
   "source": [
    "from sklearn.model_selection import train_test_split"
   ]
  },
  {
   "cell_type": "code",
   "execution_count": 11,
   "id": "6518795e",
   "metadata": {},
   "outputs": [],
   "source": [
    "X_train, X_test, y_train, y_test = train_test_split(X, y, test_size= 0.3)"
   ]
  },
  {
   "cell_type": "code",
   "execution_count": 12,
   "id": "8609714a",
   "metadata": {},
   "outputs": [
    {
     "data": {
      "text/plain": [
       "((700, 48, 48, 1), (300, 48, 48, 1), (700,), (300,))"
      ]
     },
     "execution_count": 12,
     "metadata": {},
     "output_type": "execute_result"
    }
   ],
   "source": [
    "X_train.shape, X_test.shape, y_train.shape, y_test.shape"
   ]
  },
  {
   "cell_type": "code",
   "execution_count": 13,
   "id": "d71f89f2",
   "metadata": {},
   "outputs": [],
   "source": [
    "from tensorflow.keras.utils import to_categorical\n",
    "y_cat_train = to_categorical(y_train, num_classes=5)\n",
    "y_cat_test = to_categorical(y_test, num_classes=5)\n"
   ]
  },
  {
   "cell_type": "code",
   "execution_count": 14,
   "id": "632b245e",
   "metadata": {},
   "outputs": [
    {
     "data": {
      "text/plain": [
       "((700, 5), (300, 5))"
      ]
     },
     "execution_count": 14,
     "metadata": {},
     "output_type": "execute_result"
    }
   ],
   "source": [
    "y_cat_train.shape, y_cat_test.shape"
   ]
  },
  {
   "cell_type": "code",
   "execution_count": 15,
   "id": "56b77e69",
   "metadata": {},
   "outputs": [
    {
     "data": {
      "image/png": "[encoded data removed]",
      "text/plain": [
       "<Figure size 432x288 with 1 Axes>"
      ]
     },
     "metadata": {
      "needs_background": "light"
     },
     "output_type": "display_data"
    }
   ],
   "source": [
    "import matplotlib.pyplot as plt\n",
    "\n",
    "plt.imshow(X[0]);"
   ]
  },
  {
   "cell_type": "markdown",
   "id": "2f8be386",
   "metadata": {},
   "source": [
    "## Starting basic model"
   ]
  },
  {
   "cell_type": "code",
   "execution_count": 16,
   "id": "a7a14e09",
   "metadata": {},
   "outputs": [],
   "source": [
    "import tensorflow as tf"
   ]
  },
  {
   "cell_type": "code",
   "execution_count": 17,
   "id": "3032d355",
   "metadata": {},
   "outputs": [],
   "source": [
    "from tensorflow.keras import models\n",
    "from tensorflow.keras import Sequential, layers\n",
    "from tensorflow.keras import optimizers\n",
    "from tensorflow.keras import callbacks\n",
    "from tensorflow.keras.callbacks import EarlyStopping"
   ]
  },
  {
   "cell_type": "markdown",
   "id": "d1298539",
   "metadata": {},
   "source": [
    "We will have to change input shape, kernel.\n",
    "we should use different layers to reduce smoothly before flattening!\n"
   ]
  },
  {
   "cell_type": "code",
   "execution_count": 18,
   "id": "4cc19d6d",
   "metadata": {},
   "outputs": [],
   "source": [
    "#### 1. ARCHITECTURE\n",
    "model = Sequential()\n",
    "\n",
    "model.add(layers.Conv2D(16, (3,3), input_shape=(48, 48, 1), activation=\"relu\"))\n",
    "\n",
    "model.add(layers.MaxPool2D(pool_size=(2,2)))\n",
    "\n",
    "#model.add(layers.Conv2D(32, (2,2), padding='same', activation=\"relu\"))\n",
    "\n",
    "#model.add(layers.MaxPool2D(pool_size=(2,2))) \n",
    "\n",
    "model.add(layers.Flatten())\n",
    "\n",
    "#model.add(layers.Dense(50, activation='relu')) # intermediate layer\n",
    "\n",
    "model.add(layers.Dense(5, activation='softmax'))"
   ]
  },
  {
   "cell_type": "code",
   "execution_count": 19,
   "id": "f2c2fe7b",
   "metadata": {},
   "outputs": [
    {
     "name": "stdout",
     "output_type": "stream",
     "text": [
      "Model: \"sequential\"\n",
      "_________________________________________________________________\n",
      " Layer (type)                Output Shape              Param #   \n",
      "=================================================================\n",
      " conv2d (Conv2D)             (None, 46, 46, 16)        160       \n",
      "                                                                 \n",
      " max_pooling2d (MaxPooling2D  (None, 23, 23, 16)       0         \n",
      " )                                                               \n",
      "                                                                 \n",
      " flatten (Flatten)           (None, 8464)              0         \n",
      "                                                                 \n",
      " dense (Dense)               (None, 5)                 42325     \n",
      "                                                                 \n",
      "=================================================================\n",
      "Total params: 42,485\n",
      "Trainable params: 42,485\n",
      "Non-trainable params: 0\n",
      "_________________________________________________________________\n"
     ]
    }
   ],
   "source": [
    "model.summary()"
   ]
  },
  {
   "cell_type": "code",
   "execution_count": 20,
   "id": "1012e109",
   "metadata": {},
   "outputs": [],
   "source": [
    "#### 2. COMPILATION\n",
    "model.compile(loss='categorical_crossentropy',\n",
    "              optimizer='adam',\n",
    "              metrics=['accuracy'])"
   ]
  },
  {
   "cell_type": "code",
   "execution_count": 21,
   "id": "3e60bf74",
   "metadata": {},
   "outputs": [
    {
     "name": "stdout",
     "output_type": "stream",
     "text": [
      "Epoch 1/100\n",
      "31/31 [==============================] - 2s 36ms/step - loss: 1.4223 - accuracy: 0.3190 - val_loss: 1.3228 - val_accuracy: 0.3886\n",
      "Epoch 2/100\n",
      "31/31 [==============================] - 1s 18ms/step - loss: 1.3283 - accuracy: 0.3988 - val_loss: 1.2573 - val_accuracy: 0.5071\n",
      "Epoch 3/100\n",
      "31/31 [==============================] - 0s 15ms/step - loss: 1.2300 - accuracy: 0.5215 - val_loss: 1.2226 - val_accuracy: 0.4171\n",
      "Epoch 4/100\n",
      "31/31 [==============================] - 1s 17ms/step - loss: 1.1363 - accuracy: 0.5440 - val_loss: 1.1693 - val_accuracy: 0.4502\n",
      "Epoch 5/100\n",
      "31/31 [==============================] - 0s 14ms/step - loss: 1.0033 - accuracy: 0.6319 - val_loss: 1.0786 - val_accuracy: 0.5782\n",
      "Epoch 6/100\n",
      "31/31 [==============================] - 0s 16ms/step - loss: 0.9392 - accuracy: 0.6687 - val_loss: 1.0573 - val_accuracy: 0.5972\n",
      "Epoch 7/100\n",
      "31/31 [==============================] - 0s 14ms/step - loss: 0.8335 - accuracy: 0.7362 - val_loss: 1.0194 - val_accuracy: 0.5924\n",
      "Epoch 8/100\n",
      "31/31 [==============================] - 0s 15ms/step - loss: 0.7841 - accuracy: 0.7423 - val_loss: 1.0116 - val_accuracy: 0.6066\n",
      "Epoch 9/100\n",
      "31/31 [==============================] - 1s 17ms/step - loss: 0.7029 - accuracy: 0.7975 - val_loss: 0.9673 - val_accuracy: 0.6209\n",
      "Epoch 10/100\n",
      "31/31 [==============================] - 0s 15ms/step - loss: 0.6420 - accuracy: 0.8139 - val_loss: 0.9702 - val_accuracy: 0.6019\n",
      "Epoch 11/100\n",
      "31/31 [==============================] - 0s 15ms/step - loss: 0.6456 - accuracy: 0.7914 - val_loss: 0.9561 - val_accuracy: 0.6209\n",
      "Epoch 12/100\n",
      "31/31 [==============================] - 1s 17ms/step - loss: 0.5651 - accuracy: 0.8466 - val_loss: 0.9241 - val_accuracy: 0.6398\n",
      "Epoch 13/100\n",
      "31/31 [==============================] - 0s 15ms/step - loss: 0.5156 - accuracy: 0.8691 - val_loss: 0.9476 - val_accuracy: 0.6303\n",
      "Epoch 14/100\n",
      "31/31 [==============================] - 0s 16ms/step - loss: 0.4959 - accuracy: 0.8609 - val_loss: 0.9185 - val_accuracy: 0.6303\n",
      "Epoch 15/100\n",
      "31/31 [==============================] - 1s 20ms/step - loss: 0.4654 - accuracy: 0.8875 - val_loss: 0.9109 - val_accuracy: 0.6493\n",
      "Epoch 16/100\n",
      "31/31 [==============================] - 0s 15ms/step - loss: 0.4247 - accuracy: 0.9018 - val_loss: 0.9202 - val_accuracy: 0.6493\n",
      "Epoch 17/100\n",
      "31/31 [==============================] - 0s 16ms/step - loss: 0.4144 - accuracy: 0.8896 - val_loss: 0.8679 - val_accuracy: 0.6635\n",
      "Epoch 18/100\n",
      "31/31 [==============================] - 1s 17ms/step - loss: 0.3907 - accuracy: 0.9039 - val_loss: 1.0031 - val_accuracy: 0.6398\n",
      "Epoch 19/100\n",
      "31/31 [==============================] - 0s 14ms/step - loss: 0.3615 - accuracy: 0.9243 - val_loss: 0.8832 - val_accuracy: 0.6493\n",
      "Epoch 20/100\n",
      "31/31 [==============================] - 0s 14ms/step - loss: 0.3461 - accuracy: 0.9325 - val_loss: 0.9013 - val_accuracy: 0.6825\n",
      "Epoch 21/100\n",
      "31/31 [==============================] - 0s 16ms/step - loss: 0.3154 - accuracy: 0.9325 - val_loss: 0.9635 - val_accuracy: 0.6540\n",
      "Epoch 22/100\n",
      "31/31 [==============================] - 0s 15ms/step - loss: 0.3115 - accuracy: 0.9284 - val_loss: 0.8659 - val_accuracy: 0.6540\n",
      "Epoch 23/100\n",
      "31/31 [==============================] - 0s 16ms/step - loss: 0.2920 - accuracy: 0.9427 - val_loss: 0.8668 - val_accuracy: 0.6730\n",
      "Epoch 24/100\n",
      "31/31 [==============================] - 0s 14ms/step - loss: 0.2764 - accuracy: 0.9346 - val_loss: 0.9271 - val_accuracy: 0.6682\n",
      "Epoch 25/100\n",
      "31/31 [==============================] - 0s 14ms/step - loss: 0.2730 - accuracy: 0.9489 - val_loss: 0.9366 - val_accuracy: 0.6351\n",
      "Epoch 26/100\n",
      "31/31 [==============================] - 0s 15ms/step - loss: 0.2608 - accuracy: 0.9387 - val_loss: 0.9892 - val_accuracy: 0.6682\n",
      "Epoch 27/100\n",
      "31/31 [==============================] - 0s 14ms/step - loss: 0.2748 - accuracy: 0.9366 - val_loss: 0.9419 - val_accuracy: 0.6303\n",
      "Epoch 28/100\n",
      "31/31 [==============================] - 0s 15ms/step - loss: 0.2462 - accuracy: 0.9591 - val_loss: 0.9001 - val_accuracy: 0.6682\n",
      "Epoch 29/100\n",
      "31/31 [==============================] - 0s 14ms/step - loss: 0.2105 - accuracy: 0.9673 - val_loss: 0.8770 - val_accuracy: 0.6730\n",
      "Epoch 30/100\n",
      "31/31 [==============================] - 0s 15ms/step - loss: 0.2005 - accuracy: 0.9693 - val_loss: 0.8954 - val_accuracy: 0.6730\n",
      "Epoch 31/100\n",
      "31/31 [==============================] - 0s 13ms/step - loss: 0.1912 - accuracy: 0.9714 - val_loss: 0.8995 - val_accuracy: 0.6777\n",
      "Epoch 32/100\n",
      "31/31 [==============================] - 1s 17ms/step - loss: 0.1768 - accuracy: 0.9734 - val_loss: 0.8884 - val_accuracy: 0.6777\n",
      "Epoch 33/100\n",
      "31/31 [==============================] - 0s 15ms/step - loss: 0.1657 - accuracy: 0.9816 - val_loss: 0.9412 - val_accuracy: 0.6682\n",
      "Epoch 34/100\n",
      "31/31 [==============================] - 0s 14ms/step - loss: 0.1604 - accuracy: 0.9816 - val_loss: 0.9107 - val_accuracy: 0.6730\n",
      "Epoch 35/100\n",
      "31/31 [==============================] - 0s 15ms/step - loss: 0.1714 - accuracy: 0.9755 - val_loss: 0.9466 - val_accuracy: 0.6777\n",
      "Epoch 36/100\n",
      "31/31 [==============================] - 1s 17ms/step - loss: 0.1522 - accuracy: 0.9734 - val_loss: 0.9479 - val_accuracy: 0.6635\n",
      "Epoch 37/100\n",
      "31/31 [==============================] - 0s 13ms/step - loss: 0.1380 - accuracy: 0.9857 - val_loss: 0.9498 - val_accuracy: 0.6730\n",
      "Epoch 38/100\n",
      "31/31 [==============================] - 0s 13ms/step - loss: 0.1354 - accuracy: 0.9775 - val_loss: 0.9545 - val_accuracy: 0.6682\n",
      "Epoch 39/100\n",
      "31/31 [==============================] - 0s 14ms/step - loss: 0.1248 - accuracy: 0.9857 - val_loss: 0.9639 - val_accuracy: 0.6825\n",
      "Epoch 40/100\n",
      "31/31 [==============================] - 0s 14ms/step - loss: 0.1174 - accuracy: 0.9898 - val_loss: 0.9504 - val_accuracy: 0.6825\n",
      "Epoch 41/100\n",
      "31/31 [==============================] - 0s 14ms/step - loss: 0.1076 - accuracy: 0.9918 - val_loss: 0.9490 - val_accuracy: 0.6872\n",
      "Epoch 42/100\n",
      "31/31 [==============================] - 0s 14ms/step - loss: 0.1073 - accuracy: 0.9898 - val_loss: 0.9575 - val_accuracy: 0.6919\n",
      "Epoch 43/100\n",
      "31/31 [==============================] - 0s 14ms/step - loss: 0.0995 - accuracy: 0.9898 - val_loss: 0.9710 - val_accuracy: 0.6872\n",
      "Epoch 44/100\n",
      "31/31 [==============================] - 0s 13ms/step - loss: 0.0937 - accuracy: 0.9898 - val_loss: 0.9902 - val_accuracy: 0.6919\n",
      "Epoch 45/100\n",
      "31/31 [==============================] - 0s 14ms/step - loss: 0.0900 - accuracy: 0.9918 - val_loss: 1.0255 - val_accuracy: 0.6825\n",
      "Epoch 46/100\n",
      "31/31 [==============================] - 0s 14ms/step - loss: 0.0870 - accuracy: 0.9939 - val_loss: 0.9857 - val_accuracy: 0.6919\n",
      "Epoch 47/100\n",
      "31/31 [==============================] - 0s 13ms/step - loss: 0.0821 - accuracy: 0.9959 - val_loss: 1.0367 - val_accuracy: 0.6825\n",
      "Epoch 48/100\n",
      "31/31 [==============================] - 0s 14ms/step - loss: 0.0807 - accuracy: 0.9939 - val_loss: 1.0025 - val_accuracy: 0.6967\n",
      "Epoch 49/100\n",
      "31/31 [==============================] - 0s 14ms/step - loss: 0.0741 - accuracy: 0.9939 - val_loss: 1.0232 - val_accuracy: 0.6919\n",
      "Epoch 50/100\n",
      "31/31 [==============================] - 0s 16ms/step - loss: 0.0693 - accuracy: 0.9980 - val_loss: 1.0498 - val_accuracy: 0.6730\n",
      "Epoch 51/100\n",
      "31/31 [==============================] - 0s 14ms/step - loss: 0.0723 - accuracy: 0.9959 - val_loss: 1.0776 - val_accuracy: 0.6730\n",
      "Epoch 52/100\n",
      "31/31 [==============================] - 0s 15ms/step - loss: 0.0634 - accuracy: 0.9918 - val_loss: 1.0357 - val_accuracy: 0.6730\n",
      "Epoch 53/100\n",
      "31/31 [==============================] - 1s 18ms/step - loss: 0.0707 - accuracy: 0.9959 - val_loss: 1.0491 - val_accuracy: 0.6919\n",
      "Epoch 54/100\n",
      "31/31 [==============================] - 1s 19ms/step - loss: 0.0559 - accuracy: 1.0000 - val_loss: 1.0469 - val_accuracy: 0.6872\n",
      "Epoch 55/100\n",
      "31/31 [==============================] - 1s 18ms/step - loss: 0.0572 - accuracy: 1.0000 - val_loss: 1.1103 - val_accuracy: 0.6825\n",
      "Epoch 56/100\n",
      "31/31 [==============================] - 0s 16ms/step - loss: 0.0618 - accuracy: 0.9980 - val_loss: 1.0864 - val_accuracy: 0.6825\n",
      "Epoch 57/100\n",
      "31/31 [==============================] - 1s 18ms/step - loss: 0.0508 - accuracy: 0.9959 - val_loss: 1.0646 - val_accuracy: 0.6919\n",
      "Epoch 58/100\n"
     ]
    },
    {
     "name": "stdout",
     "output_type": "stream",
     "text": [
      "31/31 [==============================] - 0s 16ms/step - loss: 0.0463 - accuracy: 1.0000 - val_loss: 1.1152 - val_accuracy: 0.6872\n",
      "Epoch 59/100\n",
      "31/31 [==============================] - 0s 14ms/step - loss: 0.0426 - accuracy: 1.0000 - val_loss: 1.1305 - val_accuracy: 0.6872\n",
      "Epoch 60/100\n",
      "31/31 [==============================] - 0s 14ms/step - loss: 0.0412 - accuracy: 1.0000 - val_loss: 1.1323 - val_accuracy: 0.6872\n",
      "Epoch 61/100\n",
      "31/31 [==============================] - 0s 14ms/step - loss: 0.0395 - accuracy: 1.0000 - val_loss: 1.1235 - val_accuracy: 0.7014\n",
      "Epoch 62/100\n",
      "31/31 [==============================] - 0s 14ms/step - loss: 0.0382 - accuracy: 1.0000 - val_loss: 1.1083 - val_accuracy: 0.6872\n",
      "Epoch 63/100\n",
      "31/31 [==============================] - 0s 13ms/step - loss: 0.0377 - accuracy: 0.9980 - val_loss: 1.1758 - val_accuracy: 0.6777\n",
      "Epoch 64/100\n",
      "31/31 [==============================] - 0s 13ms/step - loss: 0.0372 - accuracy: 1.0000 - val_loss: 1.1372 - val_accuracy: 0.6919\n",
      "Epoch 65/100\n",
      "31/31 [==============================] - 0s 13ms/step - loss: 0.0332 - accuracy: 1.0000 - val_loss: 1.2011 - val_accuracy: 0.6777\n",
      "Epoch 66/100\n",
      "31/31 [==============================] - 0s 13ms/step - loss: 0.0329 - accuracy: 1.0000 - val_loss: 1.1438 - val_accuracy: 0.7062\n",
      "Epoch 67/100\n",
      "31/31 [==============================] - 0s 15ms/step - loss: 0.0338 - accuracy: 1.0000 - val_loss: 1.1797 - val_accuracy: 0.6919\n",
      "Epoch 68/100\n",
      "31/31 [==============================] - 0s 13ms/step - loss: 0.0307 - accuracy: 1.0000 - val_loss: 1.1856 - val_accuracy: 0.6967\n",
      "Epoch 69/100\n",
      "31/31 [==============================] - 0s 12ms/step - loss: 0.0301 - accuracy: 1.0000 - val_loss: 1.1591 - val_accuracy: 0.6919\n",
      "Epoch 70/100\n",
      "31/31 [==============================] - 0s 13ms/step - loss: 0.0282 - accuracy: 1.0000 - val_loss: 1.2169 - val_accuracy: 0.6967\n",
      "Epoch 71/100\n",
      "31/31 [==============================] - 0s 13ms/step - loss: 0.0270 - accuracy: 1.0000 - val_loss: 1.1935 - val_accuracy: 0.6825\n",
      "Epoch 72/100\n",
      "31/31 [==============================] - 0s 12ms/step - loss: 0.0259 - accuracy: 1.0000 - val_loss: 1.1934 - val_accuracy: 0.6967\n",
      "Epoch 73/100\n",
      "31/31 [==============================] - 0s 13ms/step - loss: 0.0230 - accuracy: 1.0000 - val_loss: 1.2033 - val_accuracy: 0.6967\n",
      "Epoch 74/100\n",
      "31/31 [==============================] - 0s 12ms/step - loss: 0.0238 - accuracy: 1.0000 - val_loss: 1.2237 - val_accuracy: 0.7014\n",
      "Epoch 75/100\n",
      "31/31 [==============================] - 0s 13ms/step - loss: 0.0221 - accuracy: 1.0000 - val_loss: 1.2273 - val_accuracy: 0.6825\n",
      "Epoch 76/100\n",
      "31/31 [==============================] - 0s 12ms/step - loss: 0.0232 - accuracy: 1.0000 - val_loss: 1.2189 - val_accuracy: 0.6967\n",
      "Epoch 77/100\n",
      "31/31 [==============================] - 0s 12ms/step - loss: 0.0204 - accuracy: 1.0000 - val_loss: 1.2104 - val_accuracy: 0.6919\n",
      "Epoch 78/100\n",
      "31/31 [==============================] - 0s 13ms/step - loss: 0.0194 - accuracy: 1.0000 - val_loss: 1.2489 - val_accuracy: 0.7014\n",
      "Epoch 79/100\n",
      "31/31 [==============================] - 0s 12ms/step - loss: 0.0201 - accuracy: 1.0000 - val_loss: 1.3086 - val_accuracy: 0.6730\n",
      "Epoch 80/100\n",
      "31/31 [==============================] - 0s 14ms/step - loss: 0.0232 - accuracy: 1.0000 - val_loss: 1.3141 - val_accuracy: 0.6919\n",
      "Epoch 81/100\n",
      "31/31 [==============================] - 0s 14ms/step - loss: 0.0208 - accuracy: 1.0000 - val_loss: 1.2302 - val_accuracy: 0.6825\n",
      "Epoch 82/100\n",
      "31/31 [==============================] - 0s 13ms/step - loss: 0.0189 - accuracy: 1.0000 - val_loss: 1.3045 - val_accuracy: 0.6825\n",
      "Epoch 83/100\n",
      "31/31 [==============================] - 0s 13ms/step - loss: 0.0187 - accuracy: 1.0000 - val_loss: 1.2892 - val_accuracy: 0.7014\n",
      "Epoch 84/100\n",
      "31/31 [==============================] - 0s 14ms/step - loss: 0.0176 - accuracy: 1.0000 - val_loss: 1.2970 - val_accuracy: 0.6919\n",
      "Epoch 85/100\n",
      "31/31 [==============================] - 0s 14ms/step - loss: 0.0154 - accuracy: 1.0000 - val_loss: 1.2774 - val_accuracy: 0.7014\n",
      "Epoch 86/100\n",
      "31/31 [==============================] - 0s 14ms/step - loss: 0.0168 - accuracy: 1.0000 - val_loss: 1.2761 - val_accuracy: 0.6967\n",
      "Epoch 87/100\n",
      "31/31 [==============================] - 0s 14ms/step - loss: 0.0150 - accuracy: 1.0000 - val_loss: 1.2984 - val_accuracy: 0.6872\n",
      "Epoch 88/100\n",
      "31/31 [==============================] - 0s 13ms/step - loss: 0.0141 - accuracy: 1.0000 - val_loss: 1.2882 - val_accuracy: 0.7014\n",
      "Epoch 89/100\n",
      "31/31 [==============================] - 0s 13ms/step - loss: 0.0140 - accuracy: 1.0000 - val_loss: 1.3091 - val_accuracy: 0.6967\n",
      "Epoch 90/100\n",
      "31/31 [==============================] - 0s 16ms/step - loss: 0.0129 - accuracy: 1.0000 - val_loss: 1.3336 - val_accuracy: 0.6967\n",
      "Epoch 91/100\n",
      "31/31 [==============================] - 0s 13ms/step - loss: 0.0134 - accuracy: 1.0000 - val_loss: 1.3104 - val_accuracy: 0.6919\n",
      "Epoch 92/100\n",
      "31/31 [==============================] - 0s 13ms/step - loss: 0.0126 - accuracy: 1.0000 - val_loss: 1.3766 - val_accuracy: 0.6872\n",
      "Epoch 93/100\n",
      "31/31 [==============================] - 0s 12ms/step - loss: 0.0123 - accuracy: 1.0000 - val_loss: 1.3382 - val_accuracy: 0.7062\n",
      "Epoch 94/100\n",
      "31/31 [==============================] - 0s 13ms/step - loss: 0.0115 - accuracy: 1.0000 - val_loss: 1.3365 - val_accuracy: 0.6919\n",
      "Epoch 95/100\n",
      "31/31 [==============================] - 0s 13ms/step - loss: 0.0110 - accuracy: 1.0000 - val_loss: 1.3271 - val_accuracy: 0.6919\n",
      "Epoch 96/100\n",
      "31/31 [==============================] - 0s 15ms/step - loss: 0.0109 - accuracy: 1.0000 - val_loss: 1.3500 - val_accuracy: 0.6967\n",
      "Epoch 97/100\n",
      "31/31 [==============================] - 0s 13ms/step - loss: 0.0104 - accuracy: 1.0000 - val_loss: 1.3732 - val_accuracy: 0.6919\n",
      "Epoch 98/100\n",
      "31/31 [==============================] - 0s 12ms/step - loss: 0.0099 - accuracy: 1.0000 - val_loss: 1.3592 - val_accuracy: 0.7014\n",
      "Epoch 99/100\n",
      "31/31 [==============================] - 0s 12ms/step - loss: 0.0093 - accuracy: 1.0000 - val_loss: 1.3535 - val_accuracy: 0.6967\n",
      "Epoch 100/100\n",
      "31/31 [==============================] - 0s 12ms/step - loss: 0.0106 - accuracy: 1.0000 - val_loss: 1.3721 - val_accuracy: 0.6967\n"
     ]
    }
   ],
   "source": [
    "#es = EarlyStopping(patience = 10, restore_best_weights = True)\n",
    "#### 3. FIT\n",
    "history = model.fit(X_train, y_cat_train, \n",
    "          batch_size=16, \n",
    "          epochs=100, \n",
    "          validation_split=0.3)\n",
    "#,\n",
    "          #callbacks=[es],\n",
    "          #verbose = 2)"
   ]
  },
  {
   "cell_type": "markdown",
   "id": "0e17497c",
   "metadata": {},
   "source": [
    "Remember to plot history!"
   ]
  },
  {
   "cell_type": "code",
   "execution_count": 22,
   "id": "bae2a666",
   "metadata": {},
   "outputs": [
    {
     "name": "stdout",
     "output_type": "stream",
     "text": [
      "[1.80713951587677, 0.5933333039283752]\n"
     ]
    }
   ],
   "source": [
    "# evaluate on the test data\n",
    "print(model.evaluate(X_test, y_cat_test, verbose=0))"
   ]
  }
 ],
 "metadata": {
  "kernelspec": {
   "display_name": "Python 3 (ipykernel)",
   "language": "python",
   "name": "python3"
  },
  "language_info": {
   "codemirror_mode": {
    "name": "ipython",
    "version": 3
   },
   "file_extension": ".py",
   "mimetype": "text/x-python",
   "name": "python",
   "nbconvert_exporter": "python",
   "pygments_lexer": "ipython3",
   "version": "3.8.12"
  },
  "toc": {
   "base_numbering": 1,
   "nav_menu": {},
   "number_sections": true,
   "sideBar": true,
   "skip_h1_title": false,
   "title_cell": "Table of Contents",
   "title_sidebar": "Contents",
   "toc_cell": false,
   "toc_position": {},
   "toc_section_display": true,
   "toc_window_display": false
  }
 },
 "nbformat": 4,
 "nbformat_minor": 5
}
