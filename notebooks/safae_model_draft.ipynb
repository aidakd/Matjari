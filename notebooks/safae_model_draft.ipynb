{
 "cells": [
  {
   "cell_type": "markdown",
   "id": "57418ab5",
   "metadata": {},
   "source": [
    "Get data file\n",
    "\n",
    "Define X = images and y = multi-classes labels\n",
    "\n",
    "preprocessing\n",
    "\n",
    "data split"
   ]
  },
  {
   "cell_type": "markdown",
   "id": "6e078b0e",
   "metadata": {},
   "source": [
    "## Starting basic model"
   ]
  },
  {
   "cell_type": "code",
   "execution_count": null,
   "id": "e19dd031",
   "metadata": {},
   "outputs": [],
   "source": [
    "import tensorflow as tf\n",
    "from tensorflow.keras import models\n",
    "from tensorflow.keras import Sequential, layers\n",
    "from tensorflow.keras import optimizers\n",
    "from tensorflow.keras import callbacks\n",
    "from tensorflow.keras.callbacks import EarlyStopping\n",
    "\n"
   ]
  },
  {
   "cell_type": "markdown",
   "id": "11454c27",
   "metadata": {},
   "source": [
    "We will have to change input shape, kernel.\n",
    "we should use different layers to reduce smoothly before flattening!\n"
   ]
  },
  {
   "cell_type": "code",
   "execution_count": null,
   "id": "05937bf1",
   "metadata": {},
   "outputs": [],
   "source": [
    "#### 1. ARCHITECTURE\n",
    "model = Sequential()\n",
    "model.add(layers.Conv2D(16, (3,3), input_shape=(28, 28, 1), padding='same', activation=\"relu\"))\n",
    "model.add(layers.MaxPool2D(pool_size=(2,2)))\n",
    "model.add(layers.Conv2D(32, (2,2), padding='same', activation=\"relu\"))\n",
    "model.add(layers.MaxPool2D(pool_size=(2,2))) \n",
    "model.add(layers.Flatten())\n",
    "model.add(layers.Dense(50, activation='relu')) # intermediate layer\n",
    "model.add(layers.Dense(10, activation='softmax'))"
   ]
  },
  {
   "cell_type": "code",
   "execution_count": null,
   "id": "97e3e5bb",
   "metadata": {},
   "outputs": [],
   "source": [
    "model.summary()"
   ]
  },
  {
   "cell_type": "code",
   "execution_count": null,
   "id": "f9e19d8a",
   "metadata": {},
   "outputs": [],
   "source": [
    "#### 2. COMPILATION\n",
    "model.compile(loss='categorical_crossentropy',\n",
    "              optimizer='adam',\n",
    "              metrics=['accuracy'])"
   ]
  },
  {
   "cell_type": "code",
   "execution_count": null,
   "id": "ffdcb701",
   "metadata": {},
   "outputs": [],
   "source": [
    "es = EarlyStopping(patience= , restore_best_weights=True)\n",
    "#### 3. FIT\n",
    "history = model.fit(X_train, y_train, \n",
    "          batch_size=16, \n",
    "          epochs=1000, \n",
    "          validation_split=0.3,\n",
    "          callbacks=[es])"
   ]
  },
  {
   "cell_type": "markdown",
   "id": "4213e146",
   "metadata": {},
   "source": [
    "Remember to plot history!"
   ]
  },
  {
   "cell_type": "code",
   "execution_count": null,
   "id": "6897f316",
   "metadata": {},
   "outputs": [],
   "source": [
    "# evaluate on the test data\n",
    "print(model.evaluate(X_test, y_cat_test, verbose=0))"
   ]
  }
 ],
 "metadata": {
  "kernelspec": {
   "display_name": "Python 3 (ipykernel)",
   "language": "python",
   "name": "python3"
  },
  "language_info": {
   "codemirror_mode": {
    "name": "ipython",
    "version": 3
   },
   "file_extension": ".py",
   "mimetype": "text/x-python",
   "name": "python",
   "nbconvert_exporter": "python",
   "pygments_lexer": "ipython3",
   "version": "3.8.12"
  },
  "toc": {
   "base_numbering": 1,
   "nav_menu": {},
   "number_sections": true,
   "sideBar": true,
   "skip_h1_title": false,
   "title_cell": "Table of Contents",
   "title_sidebar": "Contents",
   "toc_cell": false,
   "toc_position": {},
   "toc_section_display": true,
   "toc_window_display": false
  }
 },
 "nbformat": 4,
 "nbformat_minor": 5
}
