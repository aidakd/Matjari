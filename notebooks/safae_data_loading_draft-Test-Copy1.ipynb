{
 "cells": [
  {
   "cell_type": "code",
   "execution_count": 48,
   "id": "22211f92",
   "metadata": {},
   "outputs": [],
   "source": [
    "import PIL\n",
    "import numpy as np\n",
    "import pandas as pd"
   ]
  },
  {
   "cell_type": "code",
   "execution_count": 49,
   "id": "917d0400",
   "metadata": {},
   "outputs": [],
   "source": [
    "from PIL import Image\n",
    "from numpy import asarray"
   ]
  },
  {
   "cell_type": "code",
   "execution_count": 27,
   "id": "a7b997c8",
   "metadata": {},
   "outputs": [],
   "source": [
    "df = pd.read_csv('../raw_data/matjari_data_merged.csv')"
   ]
  },
  {
   "cell_type": "code",
   "execution_count": 50,
   "id": "b7d23d09",
   "metadata": {},
   "outputs": [
    {
     "data": {
      "text/html": [
       "<div>\n",
       "<style scoped>\n",
       "    .dataframe tbody tr th:only-of-type {\n",
       "        vertical-align: middle;\n",
       "    }\n",
       "\n",
       "    .dataframe tbody tr th {\n",
       "        vertical-align: top;\n",
       "    }\n",
       "\n",
       "    .dataframe thead th {\n",
       "        text-align: right;\n",
       "    }\n",
       "</style>\n",
       "<table border=\"1\" class=\"dataframe\">\n",
       "  <thead>\n",
       "    <tr style=\"text-align: right;\">\n",
       "      <th></th>\n",
       "      <th>Product Label</th>\n",
       "      <th>url</th>\n",
       "      <th>key</th>\n",
       "      <th>status</th>\n",
       "      <th>error_message</th>\n",
       "      <th>width</th>\n",
       "      <th>height</th>\n",
       "      <th>original_width</th>\n",
       "      <th>original_height</th>\n",
       "      <th>exif</th>\n",
       "      <th>md5</th>\n",
       "      <th>X</th>\n",
       "    </tr>\n",
       "  </thead>\n",
       "  <tbody>\n",
       "    <tr>\n",
       "      <th>0</th>\n",
       "      <td>Bag</td>\n",
       "      <td>https://cdn.shopify.com/s/files/1/0050/7478/02...</td>\n",
       "      <td>122</td>\n",
       "      <td>success</td>\n",
       "      <td>NaN</td>\n",
       "      <td>256</td>\n",
       "      <td>256</td>\n",
       "      <td>2635</td>\n",
       "      <td>2635</td>\n",
       "      <td>{\"Image HostComputer\": \"imagery4\"}</td>\n",
       "      <td>fec4543742d91ac05bfeba542ddd56a0</td>\n",
       "      <td>[[[255 255 255]\\n  [255 255 255]\\n  [255 255 2...</td>\n",
       "    </tr>\n",
       "    <tr>\n",
       "      <th>1</th>\n",
       "      <td>Bag</td>\n",
       "      <td>https://cdn.shopify.com/s/files/1/0050/7478/02...</td>\n",
       "      <td>123</td>\n",
       "      <td>success</td>\n",
       "      <td>NaN</td>\n",
       "      <td>256</td>\n",
       "      <td>256</td>\n",
       "      <td>2955</td>\n",
       "      <td>2955</td>\n",
       "      <td>{\"Image HostComputer\": \"imagery4\"}</td>\n",
       "      <td>0fb2b60db41b798608302f23d2283415</td>\n",
       "      <td>[[[255 255 255]\\n  [255 255 255]\\n  [255 255 2...</td>\n",
       "    </tr>\n",
       "    <tr>\n",
       "      <th>2</th>\n",
       "      <td>Bag</td>\n",
       "      <td>https://cdn.shopify.com/s/files/1/0050/7478/02...</td>\n",
       "      <td>133</td>\n",
       "      <td>success</td>\n",
       "      <td>NaN</td>\n",
       "      <td>256</td>\n",
       "      <td>256</td>\n",
       "      <td>1280</td>\n",
       "      <td>1280</td>\n",
       "      <td>{\"Image HostComputer\": \"imagery4\"}</td>\n",
       "      <td>517d74b620b8cbd2b558deffed97552e</td>\n",
       "      <td>[[[255 255 255]\\n  [255 255 255]\\n  [255 255 2...</td>\n",
       "    </tr>\n",
       "    <tr>\n",
       "      <th>3</th>\n",
       "      <td>Bag</td>\n",
       "      <td>https://cdn.shopify.com/s/files/1/0050/7478/02...</td>\n",
       "      <td>134</td>\n",
       "      <td>success</td>\n",
       "      <td>NaN</td>\n",
       "      <td>256</td>\n",
       "      <td>256</td>\n",
       "      <td>960</td>\n",
       "      <td>1280</td>\n",
       "      <td>{\"Image HostComputer\": \"imagery4\"}</td>\n",
       "      <td>d195b0f6a2c393c1df0f1c2b677045ed</td>\n",
       "      <td>[[[255 255 255]\\n  [255 255 255]\\n  [255 255 2...</td>\n",
       "    </tr>\n",
       "    <tr>\n",
       "      <th>4</th>\n",
       "      <td>Bag</td>\n",
       "      <td>https://cdn.shopify.com/s/files/1/0050/7478/02...</td>\n",
       "      <td>135</td>\n",
       "      <td>success</td>\n",
       "      <td>NaN</td>\n",
       "      <td>256</td>\n",
       "      <td>256</td>\n",
       "      <td>960</td>\n",
       "      <td>960</td>\n",
       "      <td>{\"Image HostComputer\": \"imagery4\"}</td>\n",
       "      <td>bac44b98f1b11d427b150b770c0e18ef</td>\n",
       "      <td>[[[255 255 255]\\n  [255 255 255]\\n  [255 255 2...</td>\n",
       "    </tr>\n",
       "  </tbody>\n",
       "</table>\n",
       "</div>"
      ],
      "text/plain": [
       "  Product Label                                                url  key  \\\n",
       "0           Bag  https://cdn.shopify.com/s/files/1/0050/7478/02...  122   \n",
       "1           Bag  https://cdn.shopify.com/s/files/1/0050/7478/02...  123   \n",
       "2           Bag  https://cdn.shopify.com/s/files/1/0050/7478/02...  133   \n",
       "3           Bag  https://cdn.shopify.com/s/files/1/0050/7478/02...  134   \n",
       "4           Bag  https://cdn.shopify.com/s/files/1/0050/7478/02...  135   \n",
       "\n",
       "    status  error_message  width  height  original_width  original_height  \\\n",
       "0  success            NaN    256     256            2635             2635   \n",
       "1  success            NaN    256     256            2955             2955   \n",
       "2  success            NaN    256     256            1280             1280   \n",
       "3  success            NaN    256     256             960             1280   \n",
       "4  success            NaN    256     256             960              960   \n",
       "\n",
       "                                 exif                               md5  \\\n",
       "0  {\"Image HostComputer\": \"imagery4\"}  fec4543742d91ac05bfeba542ddd56a0   \n",
       "1  {\"Image HostComputer\": \"imagery4\"}  0fb2b60db41b798608302f23d2283415   \n",
       "2  {\"Image HostComputer\": \"imagery4\"}  517d74b620b8cbd2b558deffed97552e   \n",
       "3  {\"Image HostComputer\": \"imagery4\"}  d195b0f6a2c393c1df0f1c2b677045ed   \n",
       "4  {\"Image HostComputer\": \"imagery4\"}  bac44b98f1b11d427b150b770c0e18ef   \n",
       "\n",
       "                                                   X  \n",
       "0  [[[255 255 255]\\n  [255 255 255]\\n  [255 255 2...  \n",
       "1  [[[255 255 255]\\n  [255 255 255]\\n  [255 255 2...  \n",
       "2  [[[255 255 255]\\n  [255 255 255]\\n  [255 255 2...  \n",
       "3  [[[255 255 255]\\n  [255 255 255]\\n  [255 255 2...  \n",
       "4  [[[255 255 255]\\n  [255 255 255]\\n  [255 255 2...  "
      ]
     },
     "execution_count": 50,
     "metadata": {},
     "output_type": "execute_result"
    }
   ],
   "source": [
    "df.head()"
   ]
  },
  {
   "cell_type": "code",
   "execution_count": 51,
   "id": "1e55fbdc",
   "metadata": {},
   "outputs": [
    {
     "data": {
      "text/plain": [
       "12845"
      ]
     },
     "execution_count": 51,
     "metadata": {},
     "output_type": "execute_result"
    }
   ],
   "source": [
    "len(df)"
   ]
  },
  {
   "cell_type": "code",
   "execution_count": 75,
   "id": "f233bb54",
   "metadata": {},
   "outputs": [
    {
     "ename": "SyntaxError",
     "evalue": "invalid syntax (2364573123.py, line 4)",
     "output_type": "error",
     "traceback": [
      "\u001b[0;36m  Input \u001b[0;32mIn [75]\u001b[0;36m\u001b[0m\n\u001b[0;31m    img_array = asarray(img)\u001b[0m\n\u001b[0m    ^\u001b[0m\n\u001b[0;31mSyntaxError\u001b[0m\u001b[0;31m:\u001b[0m invalid syntax\n"
     ]
    }
   ],
   "source": [
    "X = []\n",
    "for i in range(0, len(df)):\n",
    "    img = PIL.Image.open(str(df['key'][i] + ('.jpg')('../raw_data/matjari_data_merged.csv') \n",
    "    img_array = asarray(img)\n",
    "X.append(img_array)"
   ]
  },
  {
   "cell_type": "code",
   "execution_count": 11,
   "id": "6dfc096f",
   "metadata": {
    "scrolled": true
   },
   "outputs": [
    {
     "data": {
      "text/plain": [
       "(256, 256, 3)"
      ]
     },
     "execution_count": 11,
     "metadata": {},
     "output_type": "execute_result"
    }
   ],
   "source": [
    "X[0].shape"
   ]
  },
  {
   "cell_type": "code",
   "execution_count": 9,
   "id": "fc7b47cc",
   "metadata": {},
   "outputs": [],
   "source": [
    "import matplotlib.pyplot as plt\n",
    "import cv2\n",
    "import os\n",
    "import tensorflow as tf\n",
    "import pathlib"
   ]
  },
  {
   "cell_type": "code",
   "execution_count": 10,
   "id": "82dc61a2",
   "metadata": {},
   "outputs": [],
   "source": [
    "from tensorflow import keras\n",
    "from tensorflow.keras import layers\n",
    "from tensorflow.keras.models import Sequential\n",
    "from pathlib import Path"
   ]
  },
  {
   "cell_type": "code",
   "execution_count": 12,
   "id": "8e95099b",
   "metadata": {},
   "outputs": [
    {
     "data": {
      "text/plain": [
       "PosixPath('../raw_data/matjari_data_merged.csv')"
      ]
     },
     "execution_count": 12,
     "metadata": {},
     "output_type": "execute_result"
    }
   ],
   "source": [
    "\n",
    "\n",
    "img = pathlib.Path('../raw_data/matjari_data_merged.csv')\n",
    "img"
   ]
  },
  {
   "cell_type": "code",
   "execution_count": 17,
   "id": "58ccb967",
   "metadata": {},
   "outputs": [
    {
     "ename": "TypeError",
     "evalue": "'PosixPath' object is not iterable",
     "output_type": "error",
     "traceback": [
      "\u001b[0;31m---------------------------------------------------------------------------\u001b[0m",
      "\u001b[0;31mTypeError\u001b[0m                                 Traceback (most recent call last)",
      "Input \u001b[0;32mIn [17]\u001b[0m, in \u001b[0;36m<cell line: 1>\u001b[0;34m()\u001b[0m\n\u001b[0;32m----> 1\u001b[0m list_ \u001b[38;5;241m=\u001b[39m \u001b[38;5;28;43mlist\u001b[39;49m\u001b[43m(\u001b[49m\u001b[43mimg\u001b[49m\u001b[43m)\u001b[49m\n\u001b[1;32m      2\u001b[0m img_count \u001b[38;5;241m=\u001b[39m \u001b[38;5;28mlen\u001b[39m(list_)\n\u001b[1;32m      3\u001b[0m img_count\n",
      "\u001b[0;31mTypeError\u001b[0m: 'PosixPath' object is not iterable"
     ]
    }
   ],
   "source": [
    "#list_ = list(img)\n",
    "#img_count = len(list_)\n",
    "#img_count"
   ]
  },
  {
   "cell_type": "code",
   "execution_count": 22,
   "id": "4590c9e5",
   "metadata": {},
   "outputs": [
    {
     "ename": "TypeError",
     "evalue": "'PosixPath' object is not iterable",
     "output_type": "error",
     "traceback": [
      "\u001b[0;31m---------------------------------------------------------------------------\u001b[0m",
      "\u001b[0;31mTypeError\u001b[0m                                 Traceback (most recent call last)",
      "Input \u001b[0;32mIn [22]\u001b[0m, in \u001b[0;36m<cell line: 2>\u001b[0;34m()\u001b[0m\n\u001b[1;32m      1\u001b[0m X,y \u001b[38;5;241m=\u001b[39m [],[]\n\u001b[0;32m----> 2\u001b[0m \u001b[38;5;28;01mfor\u001b[39;00m Product_Label, exif \u001b[38;5;129;01min\u001b[39;00m img :\n\u001b[1;32m      3\u001b[0m     img \u001b[38;5;241m=\u001b[39m cv2\u001b[38;5;241m.\u001b[39mimread(\u001b[38;5;28mstr\u001b[39m(img))\n\u001b[1;32m      4\u001b[0m     resized_img \u001b[38;5;241m=\u001b[39m cv2\u001b[38;5;241m.\u001b[39mresize(img(\u001b[38;5;241m180\u001b[39m,\u001b[38;5;241m180\u001b[39m))\n",
      "\u001b[0;31mTypeError\u001b[0m: 'PosixPath' object is not iterable"
     ]
    }
   ],
   "source": [
    "X,y = [],[]\n",
    "for Product_Label, exif in img :\n",
    "    img = cv2.imread(str(exif))\n",
    "    resized_img = cv2.resize(img(180,180))\n",
    "    X.append(resized_img)\n",
    "    y.append(img[Product_Label])"
   ]
  },
  {
   "cell_type": "code",
   "execution_count": null,
   "id": "cd4855dc",
   "metadata": {},
   "outputs": [],
   "source": [
    "X = np.array(X)\n",
    "y = np.array(y)\n",
    "from sklearn.model_selection import train_test_split\n",
    "X_train, X_test, y_train, y_test train_test_split(X,y random_state=0)\n",
    "X_train_scaled = X_train/255\n",
    "X_test_scaled = X_test/255\n"
   ]
  },
  {
   "cell_type": "code",
   "execution_count": null,
   "id": "5e486b37",
   "metadata": {},
   "outputs": [],
   "source": [
    "num_classes = ?\n",
    "model =Sequential([\n",
    "    layers.Conv2D(16,3, padding='same', activation = 'relu')\n",
    "    layers.MaxPooling2D(),\n",
    "    layers.Conv2D(32,3, padding='same', activation = 'relu')\n",
    "    layers.MaxPooling2D(),\n",
    "    layers.Conv2D(64,3, padding='same', activation = 'relu')\n",
    "    layers.MaxPooling2D(),\n",
    "    layers.Flatten(),\n",
    "        layers.Dense(128, activation= 'relu'),\n",
    "        layers.Dense(num_classes)\n",
    "])"
   ]
  },
  {
   "cell_type": "code",
   "execution_count": null,
   "id": "8f46e506",
   "metadata": {},
   "outputs": [],
   "source": [
    "model.compile(optimizer= 'adam', loss= tf.keras.sparseCategoricalCrossentropy(from_logists= True), metrics=['accuracy'])\n",
    "model.fit(X_train_scaled, y_train, epochs =30)"
   ]
  },
  {
   "cell_type": "code",
   "execution_count": null,
   "id": "11059cfe",
   "metadata": {},
   "outputs": [],
   "source": [
    "model.evaluate(X_test.scaled, y_test)\n",
    "predictions = model.predict(X_test_scaled)\n",
    "predictions"
   ]
  },
  {
   "cell_type": "code",
   "execution_count": null,
   "id": "024bd0e5",
   "metadata": {},
   "outputs": [],
   "source": [
    "score = tf.nn.softMax(predictions[])\n",
    "score"
   ]
  },
  {
   "cell_type": "code",
   "execution_count": 57,
   "id": "d97f5824",
   "metadata": {},
   "outputs": [
    {
     "name": "stdout",
     "output_type": "stream",
     "text": [
      "fatal: invalid refspec '.'\n",
      "error: unknown switch `X'\n",
      "usage: git push [<options>] [<repository> [<refspec>...]]\n",
      "\n",
      "    -v, --verbose         be more verbose\n",
      "    -q, --quiet           be more quiet\n",
      "    --repo <repository>   repository\n",
      "    --all                 push all refs\n",
      "    --mirror              mirror all refs\n",
      "    -d, --delete          delete refs\n",
      "    --tags                push tags (can't be used with --all or --mirror)\n",
      "    -n, --dry-run         dry run\n",
      "    --porcelain           machine-readable output\n",
      "    -f, --force           force updates\n",
      "    --force-with-lease[=<refname>:<expect>]\n",
      "                          require old value of ref to be at this value\n",
      "    --recurse-submodules[=(check|on-demand|no)]\n",
      "                          control recursive pushing of submodules\n",
      "    --thin                use thin pack\n",
      "    --receive-pack <receive-pack>\n",
      "                          receive pack program\n",
      "    --exec <receive-pack>\n",
      "                          receive pack program\n",
      "    -u, --set-upstream    set upstream for git pull/status\n",
      "    --progress            force progress reporting\n",
      "    --prune               prune locally removed refs\n",
      "    --no-verify           bypass pre-push hook\n",
      "    --follow-tags         push missing but relevant tags\n",
      "    --signed[=(yes|no|if-asked)]\n",
      "                          GPG sign the push\n",
      "    --atomic              request atomic transaction on remote side\n",
      "    -o, --push-option <server-specific>\n",
      "                          option to transmit\n",
      "    -4, --ipv4            use IPv4 addresses only\n",
      "    -6, --ipv6            use IPv6 addresses only\n",
      "\n",
      "Everything up-to-date\n"
     ]
    }
   ],
   "source": [
    "!git push add .\n",
    "!git push upstream -X ours\n",
    "!git push origin model_first\n"
   ]
  },
  {
   "cell_type": "code",
   "execution_count": null,
   "id": "a1613151",
   "metadata": {},
   "outputs": [],
   "source": []
  }
 ],
 "metadata": {
  "kernelspec": {
   "display_name": "Python 3 (ipykernel)",
   "language": "python",
   "name": "python3"
  },
  "language_info": {
   "codemirror_mode": {
    "name": "ipython",
    "version": 3
   },
   "file_extension": ".py",
   "mimetype": "text/x-python",
   "name": "python",
   "nbconvert_exporter": "python",
   "pygments_lexer": "ipython3",
   "version": "3.8.12"
  },
  "toc": {
   "base_numbering": 1,
   "nav_menu": {},
   "number_sections": true,
   "sideBar": true,
   "skip_h1_title": false,
   "title_cell": "Table of Contents",
   "title_sidebar": "Contents",
   "toc_cell": false,
   "toc_position": {},
   "toc_section_display": true,
   "toc_window_display": false
  }
 },
 "nbformat": 4,
 "nbformat_minor": 5
}
