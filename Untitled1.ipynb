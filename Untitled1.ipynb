{
 "cells": [
  {
   "cell_type": "code",
   "execution_count": 18,
   "id": "2b173e89",
   "metadata": {},
   "outputs": [],
   "source": [
    "import joblib\n",
    "from PIL import Image\n",
    "import numpy as np\n",
    "from numpy import asarray\n",
    "import cv2\n",
    "import tensorflow as tf"
   ]
  },
  {
   "cell_type": "code",
   "execution_count": 2,
   "id": "b6e2f488",
   "metadata": {},
   "outputs": [],
   "source": [
    "model = joblib.load('models_model_cnn.joblib', mmap_mode=None)"
   ]
  },
  {
   "cell_type": "code",
   "execution_count": 3,
   "id": "720a54ba",
   "metadata": {},
   "outputs": [],
   "source": [
    "img_data = 'Image_matjari_test.png'"
   ]
  },
  {
   "cell_type": "code",
   "execution_count": 4,
   "id": "39f4528f",
   "metadata": {},
   "outputs": [],
   "source": [
    "uploaded_png = Image.open(img_data)    "
   ]
  },
  {
   "cell_type": "code",
   "execution_count": 5,
   "id": "8aea68d1",
   "metadata": {},
   "outputs": [],
   "source": [
    "converted_png_img = uploaded_png.convert('RGB')        "
   ]
  },
  {
   "cell_type": "code",
   "execution_count": 6,
   "id": "dd999255",
   "metadata": {},
   "outputs": [],
   "source": [
    "img = asarray(converted_png_img)    "
   ]
  },
  {
   "cell_type": "code",
   "execution_count": 7,
   "id": "68bef230",
   "metadata": {},
   "outputs": [
    {
     "data": {
      "text/plain": [
       "(192, 194, 3)"
      ]
     },
     "execution_count": 7,
     "metadata": {},
     "output_type": "execute_result"
    }
   ],
   "source": [
    "img.shape"
   ]
  },
  {
   "cell_type": "code",
   "execution_count": 28,
   "id": "2fbfbefa",
   "metadata": {},
   "outputs": [],
   "source": [
    "X_new = cv2.resize(img,(256,256),3)"
   ]
  },
  {
   "cell_type": "code",
   "execution_count": 29,
   "id": "fc0bfe90",
   "metadata": {},
   "outputs": [],
   "source": [
    "X_new = np.expand_dims(X_new, axis=0)"
   ]
  },
  {
   "cell_type": "code",
   "execution_count": 30,
   "id": "2ea14c50",
   "metadata": {},
   "outputs": [
    {
     "data": {
      "text/plain": [
       "(1, 256, 256, 3)"
      ]
     },
     "execution_count": 30,
     "metadata": {},
     "output_type": "execute_result"
    }
   ],
   "source": [
    "X_new.shape"
   ]
  },
  {
   "cell_type": "code",
   "execution_count": 31,
   "id": "96449eb6",
   "metadata": {},
   "outputs": [],
   "source": [
    "y_pred = model.predict(X_new)"
   ]
  },
  {
   "cell_type": "code",
   "execution_count": 32,
   "id": "fd7a2c7a",
   "metadata": {},
   "outputs": [
    {
     "data": {
      "text/plain": [
       "array([[0.23810823, 0.04324974, 0.03849447, 0.01689646, 0.22974497,\n",
       "        0.03335045, 0.00731567, 0.3928401 ]], dtype=float32)"
      ]
     },
     "execution_count": 32,
     "metadata": {},
     "output_type": "execute_result"
    }
   ],
   "source": [
    "y_pred"
   ]
  },
  {
   "cell_type": "code",
   "execution_count": null,
   "id": "233afea3",
   "metadata": {},
   "outputs": [],
   "source": []
  }
 ],
 "metadata": {
  "kernelspec": {
   "display_name": "Python 3 (ipykernel)",
   "language": "python",
   "name": "python3"
  },
  "language_info": {
   "codemirror_mode": {
    "name": "ipython",
    "version": 3
   },
   "file_extension": ".py",
   "mimetype": "text/x-python",
   "name": "python",
   "nbconvert_exporter": "python",
   "pygments_lexer": "ipython3",
   "version": "3.8.12"
  },
  "toc": {
   "base_numbering": 1,
   "nav_menu": {},
   "number_sections": true,
   "sideBar": true,
   "skip_h1_title": false,
   "title_cell": "Table of Contents",
   "title_sidebar": "Contents",
   "toc_cell": false,
   "toc_position": {},
   "toc_section_display": true,
   "toc_window_display": false
  }
 },
 "nbformat": 4,
 "nbformat_minor": 5
}
